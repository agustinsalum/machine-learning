{
  "cells": [
    {
      "cell_type": "markdown",
      "metadata": {
        "id": "yWFMEJp2Zd1E"
      },
      "source": [
        "# ***TRABAJO INTEGRADOR I- ***\n",
        "DATOS BASADOS EN INFORMACIÓN PÚBLICA EN ARGENTINA\n",
        "\n",
        "\n"
      ]
    },
    {
      "cell_type": "markdown",
      "metadata": {
        "id": "DzfaPyiWmMZJ"
      },
      "source": [
        "---\n",
        "## **Acceso a los diferentes dataset y visualizacion**\n",
        "\n",
        "#Los dataset podran ser descargado del siguiente [enlace de drive](https://drive.google.com/drive/folders/1J-R6fricR7D1uf9g_Cg8gbIMajCe-eYw?usp=sharing). en algunos casos los datase contiene información de diferentes periodos de tiempo y etiquetas de las variables con nomenclatura específica. Para tener referencia de los datos de cada variables de la base de datos consultar en los siguientes enlaces según el dataset elegido.\n",
        "\n",
        "\n",
        "\n",
        "|    | Tema | Nombre del archivo | Enlace |\n",
        "|---|    ---   |         ---         |   ---  |\n",
        "1   | .... | spam.csv  |  ....   |\n",
        "2   | supermercados| ventas-supermercados-2.csv  | [dataset de supermercados](https://www.datos.gob.ar/dataset/sspm_455/archivo/sspm_455.1) |\n",
        "3   | Mercado Central de Bs As |precios-mercadocentral.csv| [dataset de mercado](https://datos.gob.ar/ar/dataset/agroindustria-frutas-hortalizas---precios-mayoristas/archivo/agroindustria_6dce1e87-7988-4eaf-b0e1-b3abbb3964da) |"
      ]
    },
    {
      "cell_type": "markdown",
      "metadata": {
        "id": "s6OYVREZDtXF"
      },
      "source": [
        "#                      GRUPO X20\n",
        "\n",
        "# Llanes Carlos Martin   DNI: 14782340  EMAIL carelife8@gmail.com   \n",
        "# Jose ignacio Caraballo  DNI: 30351231 EMAIL nacho27583@hotmail.com\n",
        "# Luján, David Alberto    DNI:31633877 EMAIL dal340@hotmail.com\n",
        "# Leonel Ejarque          DNI 30368892 EMAIL leonelejarque14@gmail.com\n",
        "# Martinez, Bruno Maximiliano DNI: 38029411 EMAIL martinezbruno13194@gmail.com\n",
        "# Agresti Yanina DNI 33.694996 EMAIL yaninakaleb@gmail.com\n",
        "# Martin Bahl DNI 44208195 EMAIL bahlmartinexactas@gmail.com\n",
        "# Mercado Pamela Denisse DNI: 39272061 Email: pamelamercado23@hotmail.com\n",
        "# Agustín Salum DNI: 36764860 EMAIL: agustinsalum92@hotmail.com\n"
      ]
    },
    {
      "cell_type": "markdown",
      "metadata": {
        "id": "Q2wopJgTECIF"
      },
      "source": [
        "#Redactar en formato resumen la problematica planteado e interes en el análisis del dataset elegido, el impacto que puede llevar a futuro analizar o cruzar información sobre dichas variables ,y cual sería a priori, el modelo a resulado que usted quisiera encontrar en funciones de determinadas condiciones. Esto deberá ser detallado en forma breve a modo de introducción\n"
      ]
    },
    {
      "cell_type": "markdown",
      "metadata": {
        "id": "OKsbIcB8EYGh"
      },
      "source": [
        "El Dataset elegido es debido al conjunto de datos sobre el consumo de los argentinos a lo largo de 7 años en supermercados, la idea era ver si debido a la inflación creciente, podría haber una relación no lineal y difícil de predecir, ya que supuestamente al aumentar la inflación, los precios se disparan y el sueldo no acompaña, por ende el gasto con tarjeta de crédito debería ser\n",
        "de un incremento mayor ,ya que se compra endeudándose y debería ser al principio una relación lineal de las variables elegidas(ventas totales, pago con tarjeta de créditos) y al pasar los años se debería generar una curva , que se inclina hacia la \"y\" , pero eso no se pudo apreciar\n"
      ]
    },
    {
      "cell_type": "markdown",
      "metadata": {
        "id": "9YjUx7xKzBnw"
      },
      "source": [
        "_________________________________________________________________\n",
        "_________________________________________________________________\n",
        "_________________________________________________________________\n",
        "_________________________________________________________________\n",
        "##1- Ingrese el DATA SET"
      ]
    },
    {
      "cell_type": "code",
      "execution_count": 2,
      "metadata": {
        "id": "fDny-v5Dxl6I"
      },
      "outputs": [],
      "source": [
        "# Importo librerias\n",
        "import pandas as pd\n",
        "import numpy as np\n",
        "import seaborn as sns\n",
        "import matplotlib.pyplot as plt\n",
        "from sklearn.linear_model import LinearRegression\n",
        "from sklearn.preprocessing import StandardScaler\n",
        "\n",
        "\n",
        "\n"
      ]
    },
    {
      "cell_type": "code",
      "execution_count": 3,
      "metadata": {
        "id": "RauC8-5xtUnI"
      },
      "outputs": [],
      "source": [
        "# Creo un archivo data frame con un archivo (csv)\n",
        "data = pd.read_csv(\"ventas-supermercados-2.csv\")\n",
        "df=pd.DataFrame(data)"
      ]
    },
    {
      "cell_type": "markdown",
      "metadata": {
        "id": "ajWaCuM0zJhN"
      },
      "source": [
        "##2- Aplicar PROCESO de ANÁLISIS EXPLORATORIO DE LOS DATOS (Algunas funciones comúnes que puedes aplicar: .head .info .describe etc)."
      ]
    },
    {
      "cell_type": "code",
      "execution_count": 4,
      "metadata": {
        "colab": {
          "base_uri": "https://localhost:8080/",
          "height": 255
        },
        "id": "7t0-4wZyziwH",
        "outputId": "4cf6a3b0-3967-4190-ecc5-4ed95927c0a8"
      },
      "outputs": [
        {
          "data": {
            "text/html": [
              "<div>\n",
              "<style scoped>\n",
              "    .dataframe tbody tr th:only-of-type {\n",
              "        vertical-align: middle;\n",
              "    }\n",
              "\n",
              "    .dataframe tbody tr th {\n",
              "        vertical-align: top;\n",
              "    }\n",
              "\n",
              "    .dataframe thead th {\n",
              "        text-align: right;\n",
              "    }\n",
              "</style>\n",
              "<table border=\"1\" class=\"dataframe\">\n",
              "  <thead>\n",
              "    <tr style=\"text-align: right;\">\n",
              "      <th></th>\n",
              "      <th>indice_tiempo</th>\n",
              "      <th>ventas_precios_corrientes</th>\n",
              "      <th>ventas_precios_constantes</th>\n",
              "      <th>ventas_totales_canal_venta</th>\n",
              "      <th>salon_ventas</th>\n",
              "      <th>canales_on_line</th>\n",
              "      <th>ventas_totales_medio_pago</th>\n",
              "      <th>efectivo</th>\n",
              "      <th>tarjetas_debito</th>\n",
              "      <th>tarjetas_credito</th>\n",
              "      <th>...</th>\n",
              "      <th>almacen</th>\n",
              "      <th>panaderia</th>\n",
              "      <th>lacteos</th>\n",
              "      <th>carnes</th>\n",
              "      <th>verduleria_fruteria</th>\n",
              "      <th>alimentos_preparados_rotiseria</th>\n",
              "      <th>articulos_limpieza_perfumeria</th>\n",
              "      <th>indumentaria_calzado_textiles_hogar</th>\n",
              "      <th>electronicos_articulos_hogar</th>\n",
              "      <th>otros</th>\n",
              "    </tr>\n",
              "  </thead>\n",
              "  <tbody>\n",
              "    <tr>\n",
              "      <th>0</th>\n",
              "      <td>2017-01-01</td>\n",
              "      <td>27858.872083</td>\n",
              "      <td>27477.307666</td>\n",
              "      <td>2.785887e+07</td>\n",
              "      <td>2.759173e+07</td>\n",
              "      <td>267141.956</td>\n",
              "      <td>2.785887e+07</td>\n",
              "      <td>1.023010e+07</td>\n",
              "      <td>6.864575e+06</td>\n",
              "      <td>9.047205e+06</td>\n",
              "      <td>...</td>\n",
              "      <td>6.705475e+06</td>\n",
              "      <td>9.459063e+05</td>\n",
              "      <td>2.880656e+06</td>\n",
              "      <td>2.606193e+06</td>\n",
              "      <td>1.050314e+06</td>\n",
              "      <td>340777.38815</td>\n",
              "      <td>4.397544e+06</td>\n",
              "      <td>772371.84765</td>\n",
              "      <td>1.838507e+06</td>\n",
              "      <td>2.806660e+06</td>\n",
              "    </tr>\n",
              "    <tr>\n",
              "      <th>1</th>\n",
              "      <td>2017-02-01</td>\n",
              "      <td>25994.200168</td>\n",
              "      <td>25223.428860</td>\n",
              "      <td>2.599420e+07</td>\n",
              "      <td>2.574918e+07</td>\n",
              "      <td>245020.769</td>\n",
              "      <td>2.599420e+07</td>\n",
              "      <td>9.719067e+06</td>\n",
              "      <td>6.438494e+06</td>\n",
              "      <td>8.309150e+06</td>\n",
              "      <td>...</td>\n",
              "      <td>6.576625e+06</td>\n",
              "      <td>9.256186e+05</td>\n",
              "      <td>2.855640e+06</td>\n",
              "      <td>2.600084e+06</td>\n",
              "      <td>1.026167e+06</td>\n",
              "      <td>328288.69508</td>\n",
              "      <td>4.053284e+06</td>\n",
              "      <td>672290.51653</td>\n",
              "      <td>1.257662e+06</td>\n",
              "      <td>2.354085e+06</td>\n",
              "    </tr>\n",
              "    <tr>\n",
              "      <th>2</th>\n",
              "      <td>2017-03-01</td>\n",
              "      <td>27780.006522</td>\n",
              "      <td>26334.263640</td>\n",
              "      <td>2.778001e+07</td>\n",
              "      <td>2.747223e+07</td>\n",
              "      <td>307777.804</td>\n",
              "      <td>2.778001e+07</td>\n",
              "      <td>1.024444e+07</td>\n",
              "      <td>6.908523e+06</td>\n",
              "      <td>8.845010e+06</td>\n",
              "      <td>...</td>\n",
              "      <td>7.437264e+06</td>\n",
              "      <td>1.016148e+06</td>\n",
              "      <td>3.188259e+06</td>\n",
              "      <td>2.824977e+06</td>\n",
              "      <td>1.075526e+06</td>\n",
              "      <td>353335.15476</td>\n",
              "      <td>4.354198e+06</td>\n",
              "      <td>667696.66531</td>\n",
              "      <td>1.305675e+06</td>\n",
              "      <td>2.266189e+06</td>\n",
              "    </tr>\n",
              "    <tr>\n",
              "      <th>3</th>\n",
              "      <td>2017-04-01</td>\n",
              "      <td>29134.272221</td>\n",
              "      <td>27045.884463</td>\n",
              "      <td>2.913427e+07</td>\n",
              "      <td>2.882748e+07</td>\n",
              "      <td>306792.733</td>\n",
              "      <td>2.913427e+07</td>\n",
              "      <td>1.031263e+07</td>\n",
              "      <td>7.454252e+06</td>\n",
              "      <td>9.458167e+06</td>\n",
              "      <td>...</td>\n",
              "      <td>8.211244e+06</td>\n",
              "      <td>1.132396e+06</td>\n",
              "      <td>3.257140e+06</td>\n",
              "      <td>3.006159e+06</td>\n",
              "      <td>1.037213e+06</td>\n",
              "      <td>359694.45374</td>\n",
              "      <td>4.355707e+06</td>\n",
              "      <td>838948.24575</td>\n",
              "      <td>1.535726e+06</td>\n",
              "      <td>2.146756e+06</td>\n",
              "    </tr>\n",
              "    <tr>\n",
              "      <th>4</th>\n",
              "      <td>2017-05-01</td>\n",
              "      <td>27969.004677</td>\n",
              "      <td>25631.863992</td>\n",
              "      <td>2.796900e+07</td>\n",
              "      <td>2.756931e+07</td>\n",
              "      <td>399693.262</td>\n",
              "      <td>2.796900e+07</td>\n",
              "      <td>1.014761e+07</td>\n",
              "      <td>6.735747e+06</td>\n",
              "      <td>9.220930e+06</td>\n",
              "      <td>...</td>\n",
              "      <td>7.651058e+06</td>\n",
              "      <td>1.033082e+06</td>\n",
              "      <td>3.232636e+06</td>\n",
              "      <td>2.799142e+06</td>\n",
              "      <td>9.826512e+05</td>\n",
              "      <td>336568.00849</td>\n",
              "      <td>4.206102e+06</td>\n",
              "      <td>915895.14981</td>\n",
              "      <td>1.824462e+06</td>\n",
              "      <td>2.117971e+06</td>\n",
              "    </tr>\n",
              "  </tbody>\n",
              "</table>\n",
              "<p>5 rows × 24 columns</p>\n",
              "</div>"
            ],
            "text/plain": [
              "  indice_tiempo  ventas_precios_corrientes  ventas_precios_constantes  \\\n",
              "0    2017-01-01               27858.872083               27477.307666   \n",
              "1    2017-02-01               25994.200168               25223.428860   \n",
              "2    2017-03-01               27780.006522               26334.263640   \n",
              "3    2017-04-01               29134.272221               27045.884463   \n",
              "4    2017-05-01               27969.004677               25631.863992   \n",
              "\n",
              "   ventas_totales_canal_venta  salon_ventas  canales_on_line  \\\n",
              "0                2.785887e+07  2.759173e+07       267141.956   \n",
              "1                2.599420e+07  2.574918e+07       245020.769   \n",
              "2                2.778001e+07  2.747223e+07       307777.804   \n",
              "3                2.913427e+07  2.882748e+07       306792.733   \n",
              "4                2.796900e+07  2.756931e+07       399693.262   \n",
              "\n",
              "   ventas_totales_medio_pago      efectivo  tarjetas_debito  tarjetas_credito  \\\n",
              "0               2.785887e+07  1.023010e+07     6.864575e+06      9.047205e+06   \n",
              "1               2.599420e+07  9.719067e+06     6.438494e+06      8.309150e+06   \n",
              "2               2.778001e+07  1.024444e+07     6.908523e+06      8.845010e+06   \n",
              "3               2.913427e+07  1.031263e+07     7.454252e+06      9.458167e+06   \n",
              "4               2.796900e+07  1.014761e+07     6.735747e+06      9.220930e+06   \n",
              "\n",
              "   ...       almacen     panaderia       lacteos        carnes  \\\n",
              "0  ...  6.705475e+06  9.459063e+05  2.880656e+06  2.606193e+06   \n",
              "1  ...  6.576625e+06  9.256186e+05  2.855640e+06  2.600084e+06   \n",
              "2  ...  7.437264e+06  1.016148e+06  3.188259e+06  2.824977e+06   \n",
              "3  ...  8.211244e+06  1.132396e+06  3.257140e+06  3.006159e+06   \n",
              "4  ...  7.651058e+06  1.033082e+06  3.232636e+06  2.799142e+06   \n",
              "\n",
              "   verduleria_fruteria  alimentos_preparados_rotiseria  \\\n",
              "0         1.050314e+06                    340777.38815   \n",
              "1         1.026167e+06                    328288.69508   \n",
              "2         1.075526e+06                    353335.15476   \n",
              "3         1.037213e+06                    359694.45374   \n",
              "4         9.826512e+05                    336568.00849   \n",
              "\n",
              "   articulos_limpieza_perfumeria  indumentaria_calzado_textiles_hogar  \\\n",
              "0                   4.397544e+06                         772371.84765   \n",
              "1                   4.053284e+06                         672290.51653   \n",
              "2                   4.354198e+06                         667696.66531   \n",
              "3                   4.355707e+06                         838948.24575   \n",
              "4                   4.206102e+06                         915895.14981   \n",
              "\n",
              "   electronicos_articulos_hogar         otros  \n",
              "0                  1.838507e+06  2.806660e+06  \n",
              "1                  1.257662e+06  2.354085e+06  \n",
              "2                  1.305675e+06  2.266189e+06  \n",
              "3                  1.535726e+06  2.146756e+06  \n",
              "4                  1.824462e+06  2.117971e+06  \n",
              "\n",
              "[5 rows x 24 columns]"
            ]
          },
          "execution_count": 4,
          "metadata": {},
          "output_type": "execute_result"
        }
      ],
      "source": [
        "# info de las columnas y sus etiquetas y los primeros 5 registros\n",
        "df.head(5)\n",
        "\n"
      ]
    },
    {
      "cell_type": "code",
      "execution_count": 5,
      "metadata": {
        "colab": {
          "base_uri": "https://localhost:8080/"
        },
        "id": "2hbkFsWY0O1c",
        "outputId": "a71b37c9-2fac-4626-8c77-597c9bbb0ecc"
      },
      "outputs": [
        {
          "name": "stdout",
          "output_type": "stream",
          "text": [
            "<class 'pandas.core.frame.DataFrame'>\n",
            "RangeIndex: 79 entries, 0 to 78\n",
            "Data columns (total 24 columns):\n",
            " #   Column                               Non-Null Count  Dtype  \n",
            "---  ------                               --------------  -----  \n",
            " 0   indice_tiempo                        79 non-null     object \n",
            " 1   ventas_precios_corrientes            79 non-null     float64\n",
            " 2   ventas_precios_constantes            79 non-null     float64\n",
            " 3   ventas_totales_canal_venta           79 non-null     float64\n",
            " 4   salon_ventas                         79 non-null     float64\n",
            " 5   canales_on_line                      79 non-null     float64\n",
            " 6   ventas_totales_medio_pago            79 non-null     float64\n",
            " 7   efectivo                             79 non-null     float64\n",
            " 8   tarjetas_debito                      79 non-null     float64\n",
            " 9   tarjetas_credito                     79 non-null     float64\n",
            " 10  otros_medios                         79 non-null     float64\n",
            " 11  ventas_totales_grupo_articulos       79 non-null     float64\n",
            " 12  subtotal_ventas_alimentos_bebidas    79 non-null     float64\n",
            " 13  bebidas                              79 non-null     float64\n",
            " 14  almacen                              79 non-null     float64\n",
            " 15  panaderia                            79 non-null     float64\n",
            " 16  lacteos                              79 non-null     float64\n",
            " 17  carnes                               79 non-null     float64\n",
            " 18  verduleria_fruteria                  79 non-null     float64\n",
            " 19  alimentos_preparados_rotiseria       79 non-null     float64\n",
            " 20  articulos_limpieza_perfumeria        79 non-null     float64\n",
            " 21  indumentaria_calzado_textiles_hogar  79 non-null     float64\n",
            " 22  electronicos_articulos_hogar         79 non-null     float64\n",
            " 23  otros                                79 non-null     float64\n",
            "dtypes: float64(23), object(1)\n",
            "memory usage: 14.9+ KB\n"
          ]
        }
      ],
      "source": [
        "# informacion detallada de las etiquetas de columnas y tipo de dato\n",
        "df.info()"
      ]
    },
    {
      "cell_type": "code",
      "execution_count": 6,
      "metadata": {
        "colab": {
          "base_uri": "https://localhost:8080/",
          "height": 350
        },
        "id": "25McAZirzvvc",
        "outputId": "0d93985c-51d5-4772-edfb-ffb8e71c0054"
      },
      "outputs": [
        {
          "data": {
            "text/html": [
              "<div>\n",
              "<style scoped>\n",
              "    .dataframe tbody tr th:only-of-type {\n",
              "        vertical-align: middle;\n",
              "    }\n",
              "\n",
              "    .dataframe tbody tr th {\n",
              "        vertical-align: top;\n",
              "    }\n",
              "\n",
              "    .dataframe thead th {\n",
              "        text-align: right;\n",
              "    }\n",
              "</style>\n",
              "<table border=\"1\" class=\"dataframe\">\n",
              "  <thead>\n",
              "    <tr style=\"text-align: right;\">\n",
              "      <th></th>\n",
              "      <th>ventas_precios_corrientes</th>\n",
              "      <th>ventas_precios_constantes</th>\n",
              "      <th>ventas_totales_canal_venta</th>\n",
              "      <th>salon_ventas</th>\n",
              "      <th>canales_on_line</th>\n",
              "      <th>ventas_totales_medio_pago</th>\n",
              "      <th>efectivo</th>\n",
              "      <th>tarjetas_debito</th>\n",
              "      <th>tarjetas_credito</th>\n",
              "      <th>otros_medios</th>\n",
              "      <th>...</th>\n",
              "      <th>almacen</th>\n",
              "      <th>panaderia</th>\n",
              "      <th>lacteos</th>\n",
              "      <th>carnes</th>\n",
              "      <th>verduleria_fruteria</th>\n",
              "      <th>alimentos_preparados_rotiseria</th>\n",
              "      <th>articulos_limpieza_perfumeria</th>\n",
              "      <th>indumentaria_calzado_textiles_hogar</th>\n",
              "      <th>electronicos_articulos_hogar</th>\n",
              "      <th>otros</th>\n",
              "    </tr>\n",
              "  </thead>\n",
              "  <tbody>\n",
              "    <tr>\n",
              "      <th>count</th>\n",
              "      <td>79.000000</td>\n",
              "      <td>79.000000</td>\n",
              "      <td>7.900000e+01</td>\n",
              "      <td>7.900000e+01</td>\n",
              "      <td>7.900000e+01</td>\n",
              "      <td>7.900000e+01</td>\n",
              "      <td>7.900000e+01</td>\n",
              "      <td>7.900000e+01</td>\n",
              "      <td>7.900000e+01</td>\n",
              "      <td>7.900000e+01</td>\n",
              "      <td>...</td>\n",
              "      <td>7.900000e+01</td>\n",
              "      <td>7.900000e+01</td>\n",
              "      <td>7.900000e+01</td>\n",
              "      <td>7.900000e+01</td>\n",
              "      <td>7.900000e+01</td>\n",
              "      <td>7.900000e+01</td>\n",
              "      <td>7.900000e+01</td>\n",
              "      <td>7.900000e+01</td>\n",
              "      <td>7.900000e+01</td>\n",
              "      <td>7.900000e+01</td>\n",
              "    </tr>\n",
              "    <tr>\n",
              "      <th>mean</th>\n",
              "      <td>117708.347840</td>\n",
              "      <td>25303.036996</td>\n",
              "      <td>1.177083e+08</td>\n",
              "      <td>1.141283e+08</td>\n",
              "      <td>3.580032e+06</td>\n",
              "      <td>1.177083e+08</td>\n",
              "      <td>3.517770e+07</td>\n",
              "      <td>3.407927e+07</td>\n",
              "      <td>4.283998e+07</td>\n",
              "      <td>5.611402e+06</td>\n",
              "      <td>...</td>\n",
              "      <td>3.178900e+07</td>\n",
              "      <td>4.163431e+06</td>\n",
              "      <td>1.276399e+07</td>\n",
              "      <td>1.318956e+07</td>\n",
              "      <td>4.565877e+06</td>\n",
              "      <td>1.143562e+06</td>\n",
              "      <td>1.591897e+07</td>\n",
              "      <td>2.858263e+06</td>\n",
              "      <td>7.783644e+06</td>\n",
              "      <td>8.880921e+06</td>\n",
              "    </tr>\n",
              "    <tr>\n",
              "      <th>std</th>\n",
              "      <td>108086.552977</td>\n",
              "      <td>2315.769167</td>\n",
              "      <td>1.080866e+08</td>\n",
              "      <td>1.045110e+08</td>\n",
              "      <td>3.709835e+06</td>\n",
              "      <td>1.080866e+08</td>\n",
              "      <td>2.833693e+07</td>\n",
              "      <td>3.436626e+07</td>\n",
              "      <td>3.994088e+07</td>\n",
              "      <td>5.807229e+06</td>\n",
              "      <td>...</td>\n",
              "      <td>2.954107e+07</td>\n",
              "      <td>3.943760e+06</td>\n",
              "      <td>1.141700e+07</td>\n",
              "      <td>1.217894e+07</td>\n",
              "      <td>4.738686e+06</td>\n",
              "      <td>1.117433e+06</td>\n",
              "      <td>1.386442e+07</td>\n",
              "      <td>2.595997e+06</td>\n",
              "      <td>7.479532e+06</td>\n",
              "      <td>7.671972e+06</td>\n",
              "    </tr>\n",
              "    <tr>\n",
              "      <th>min</th>\n",
              "      <td>25994.200168</td>\n",
              "      <td>21628.031777</td>\n",
              "      <td>2.599420e+07</td>\n",
              "      <td>2.574918e+07</td>\n",
              "      <td>2.450208e+05</td>\n",
              "      <td>2.599420e+07</td>\n",
              "      <td>9.719067e+06</td>\n",
              "      <td>6.438494e+06</td>\n",
              "      <td>8.309150e+06</td>\n",
              "      <td>1.044014e+06</td>\n",
              "      <td>...</td>\n",
              "      <td>6.576625e+06</td>\n",
              "      <td>9.256186e+05</td>\n",
              "      <td>2.855640e+06</td>\n",
              "      <td>2.600084e+06</td>\n",
              "      <td>9.522033e+05</td>\n",
              "      <td>3.282887e+05</td>\n",
              "      <td>4.053284e+06</td>\n",
              "      <td>6.676967e+05</td>\n",
              "      <td>1.257662e+06</td>\n",
              "      <td>2.117971e+06</td>\n",
              "    </tr>\n",
              "    <tr>\n",
              "      <th>25%</th>\n",
              "      <td>40345.935551</td>\n",
              "      <td>23797.284769</td>\n",
              "      <td>4.034594e+07</td>\n",
              "      <td>3.981664e+07</td>\n",
              "      <td>6.585813e+05</td>\n",
              "      <td>4.034594e+07</td>\n",
              "      <td>1.418464e+07</td>\n",
              "      <td>1.055719e+07</td>\n",
              "      <td>1.433673e+07</td>\n",
              "      <td>1.684274e+06</td>\n",
              "      <td>...</td>\n",
              "      <td>1.106834e+07</td>\n",
              "      <td>1.522828e+06</td>\n",
              "      <td>4.513890e+06</td>\n",
              "      <td>4.107861e+06</td>\n",
              "      <td>1.379038e+06</td>\n",
              "      <td>4.542709e+05</td>\n",
              "      <td>5.822339e+06</td>\n",
              "      <td>1.059855e+06</td>\n",
              "      <td>2.349542e+06</td>\n",
              "      <td>3.399130e+06</td>\n",
              "    </tr>\n",
              "    <tr>\n",
              "      <th>50%</th>\n",
              "      <td>78232.859602</td>\n",
              "      <td>24652.714424</td>\n",
              "      <td>7.823286e+07</td>\n",
              "      <td>7.455485e+07</td>\n",
              "      <td>3.046181e+06</td>\n",
              "      <td>7.823286e+07</td>\n",
              "      <td>2.486842e+07</td>\n",
              "      <td>2.066085e+07</td>\n",
              "      <td>2.933259e+07</td>\n",
              "      <td>3.336034e+06</td>\n",
              "      <td>...</td>\n",
              "      <td>2.261402e+07</td>\n",
              "      <td>2.630488e+06</td>\n",
              "      <td>9.349357e+06</td>\n",
              "      <td>8.463266e+06</td>\n",
              "      <td>2.778663e+06</td>\n",
              "      <td>6.205796e+05</td>\n",
              "      <td>1.108969e+07</td>\n",
              "      <td>1.826747e+06</td>\n",
              "      <td>4.776635e+06</td>\n",
              "      <td>5.935994e+06</td>\n",
              "    </tr>\n",
              "    <tr>\n",
              "      <th>75%</th>\n",
              "      <td>146952.267024</td>\n",
              "      <td>26384.819795</td>\n",
              "      <td>1.469523e+08</td>\n",
              "      <td>1.422036e+08</td>\n",
              "      <td>4.782376e+06</td>\n",
              "      <td>1.469523e+08</td>\n",
              "      <td>4.502694e+07</td>\n",
              "      <td>4.260439e+07</td>\n",
              "      <td>5.222907e+07</td>\n",
              "      <td>7.284183e+06</td>\n",
              "      <td>...</td>\n",
              "      <td>3.733364e+07</td>\n",
              "      <td>4.816897e+06</td>\n",
              "      <td>1.579264e+07</td>\n",
              "      <td>1.687895e+07</td>\n",
              "      <td>5.366549e+06</td>\n",
              "      <td>1.298572e+06</td>\n",
              "      <td>1.948480e+07</td>\n",
              "      <td>3.829073e+06</td>\n",
              "      <td>1.049150e+07</td>\n",
              "      <td>1.170575e+07</td>\n",
              "    </tr>\n",
              "    <tr>\n",
              "      <th>max</th>\n",
              "      <td>482669.389051</td>\n",
              "      <td>34084.519434</td>\n",
              "      <td>4.826694e+08</td>\n",
              "      <td>4.673881e+08</td>\n",
              "      <td>1.528130e+07</td>\n",
              "      <td>4.826694e+08</td>\n",
              "      <td>1.202149e+08</td>\n",
              "      <td>1.552504e+08</td>\n",
              "      <td>1.762556e+08</td>\n",
              "      <td>3.094848e+07</td>\n",
              "      <td>...</td>\n",
              "      <td>1.358757e+08</td>\n",
              "      <td>1.814619e+07</td>\n",
              "      <td>5.269467e+07</td>\n",
              "      <td>5.062092e+07</td>\n",
              "      <td>1.958770e+07</td>\n",
              "      <td>4.951871e+06</td>\n",
              "      <td>6.152573e+07</td>\n",
              "      <td>1.403827e+07</td>\n",
              "      <td>3.327556e+07</td>\n",
              "      <td>3.315275e+07</td>\n",
              "    </tr>\n",
              "  </tbody>\n",
              "</table>\n",
              "<p>8 rows × 23 columns</p>\n",
              "</div>"
            ],
            "text/plain": [
              "       ventas_precios_corrientes  ventas_precios_constantes  \\\n",
              "count                  79.000000                  79.000000   \n",
              "mean               117708.347840               25303.036996   \n",
              "std                108086.552977                2315.769167   \n",
              "min                 25994.200168               21628.031777   \n",
              "25%                 40345.935551               23797.284769   \n",
              "50%                 78232.859602               24652.714424   \n",
              "75%                146952.267024               26384.819795   \n",
              "max                482669.389051               34084.519434   \n",
              "\n",
              "       ventas_totales_canal_venta  salon_ventas  canales_on_line  \\\n",
              "count                7.900000e+01  7.900000e+01     7.900000e+01   \n",
              "mean                 1.177083e+08  1.141283e+08     3.580032e+06   \n",
              "std                  1.080866e+08  1.045110e+08     3.709835e+06   \n",
              "min                  2.599420e+07  2.574918e+07     2.450208e+05   \n",
              "25%                  4.034594e+07  3.981664e+07     6.585813e+05   \n",
              "50%                  7.823286e+07  7.455485e+07     3.046181e+06   \n",
              "75%                  1.469523e+08  1.422036e+08     4.782376e+06   \n",
              "max                  4.826694e+08  4.673881e+08     1.528130e+07   \n",
              "\n",
              "       ventas_totales_medio_pago      efectivo  tarjetas_debito  \\\n",
              "count               7.900000e+01  7.900000e+01     7.900000e+01   \n",
              "mean                1.177083e+08  3.517770e+07     3.407927e+07   \n",
              "std                 1.080866e+08  2.833693e+07     3.436626e+07   \n",
              "min                 2.599420e+07  9.719067e+06     6.438494e+06   \n",
              "25%                 4.034594e+07  1.418464e+07     1.055719e+07   \n",
              "50%                 7.823286e+07  2.486842e+07     2.066085e+07   \n",
              "75%                 1.469523e+08  4.502694e+07     4.260439e+07   \n",
              "max                 4.826694e+08  1.202149e+08     1.552504e+08   \n",
              "\n",
              "       tarjetas_credito  otros_medios  ...       almacen     panaderia  \\\n",
              "count      7.900000e+01  7.900000e+01  ...  7.900000e+01  7.900000e+01   \n",
              "mean       4.283998e+07  5.611402e+06  ...  3.178900e+07  4.163431e+06   \n",
              "std        3.994088e+07  5.807229e+06  ...  2.954107e+07  3.943760e+06   \n",
              "min        8.309150e+06  1.044014e+06  ...  6.576625e+06  9.256186e+05   \n",
              "25%        1.433673e+07  1.684274e+06  ...  1.106834e+07  1.522828e+06   \n",
              "50%        2.933259e+07  3.336034e+06  ...  2.261402e+07  2.630488e+06   \n",
              "75%        5.222907e+07  7.284183e+06  ...  3.733364e+07  4.816897e+06   \n",
              "max        1.762556e+08  3.094848e+07  ...  1.358757e+08  1.814619e+07   \n",
              "\n",
              "            lacteos        carnes  verduleria_fruteria  \\\n",
              "count  7.900000e+01  7.900000e+01         7.900000e+01   \n",
              "mean   1.276399e+07  1.318956e+07         4.565877e+06   \n",
              "std    1.141700e+07  1.217894e+07         4.738686e+06   \n",
              "min    2.855640e+06  2.600084e+06         9.522033e+05   \n",
              "25%    4.513890e+06  4.107861e+06         1.379038e+06   \n",
              "50%    9.349357e+06  8.463266e+06         2.778663e+06   \n",
              "75%    1.579264e+07  1.687895e+07         5.366549e+06   \n",
              "max    5.269467e+07  5.062092e+07         1.958770e+07   \n",
              "\n",
              "       alimentos_preparados_rotiseria  articulos_limpieza_perfumeria  \\\n",
              "count                    7.900000e+01                   7.900000e+01   \n",
              "mean                     1.143562e+06                   1.591897e+07   \n",
              "std                      1.117433e+06                   1.386442e+07   \n",
              "min                      3.282887e+05                   4.053284e+06   \n",
              "25%                      4.542709e+05                   5.822339e+06   \n",
              "50%                      6.205796e+05                   1.108969e+07   \n",
              "75%                      1.298572e+06                   1.948480e+07   \n",
              "max                      4.951871e+06                   6.152573e+07   \n",
              "\n",
              "       indumentaria_calzado_textiles_hogar  electronicos_articulos_hogar  \\\n",
              "count                         7.900000e+01                  7.900000e+01   \n",
              "mean                          2.858263e+06                  7.783644e+06   \n",
              "std                           2.595997e+06                  7.479532e+06   \n",
              "min                           6.676967e+05                  1.257662e+06   \n",
              "25%                           1.059855e+06                  2.349542e+06   \n",
              "50%                           1.826747e+06                  4.776635e+06   \n",
              "75%                           3.829073e+06                  1.049150e+07   \n",
              "max                           1.403827e+07                  3.327556e+07   \n",
              "\n",
              "              otros  \n",
              "count  7.900000e+01  \n",
              "mean   8.880921e+06  \n",
              "std    7.671972e+06  \n",
              "min    2.117971e+06  \n",
              "25%    3.399130e+06  \n",
              "50%    5.935994e+06  \n",
              "75%    1.170575e+07  \n",
              "max    3.315275e+07  \n",
              "\n",
              "[8 rows x 23 columns]"
            ]
          },
          "execution_count": 6,
          "metadata": {},
          "output_type": "execute_result"
        }
      ],
      "source": [
        "# Obtengo estadísticas descriptivas de las columnas numéricas\n",
        "df.describe()"
      ]
    },
    {
      "cell_type": "markdown",
      "metadata": {
        "id": "sjms7ns6zW-9"
      },
      "source": [
        "##3- Aplicar PROCESO DE LIMPIEZA"
      ]
    },
    {
      "cell_type": "code",
      "execution_count": 7,
      "metadata": {
        "colab": {
          "base_uri": "https://localhost:8080/"
        },
        "id": "xxgjEruPzjL_",
        "outputId": "87d57339-f5b4-449e-e167-b64ea91e61dc"
      },
      "outputs": [
        {
          "data": {
            "text/plain": [
              "indice_tiempo                          0\n",
              "ventas_precios_corrientes              0\n",
              "ventas_precios_constantes              0\n",
              "ventas_totales_canal_venta             0\n",
              "salon_ventas                           0\n",
              "canales_on_line                        0\n",
              "ventas_totales_medio_pago              0\n",
              "efectivo                               0\n",
              "tarjetas_debito                        0\n",
              "tarjetas_credito                       0\n",
              "otros_medios                           0\n",
              "ventas_totales_grupo_articulos         0\n",
              "subtotal_ventas_alimentos_bebidas      0\n",
              "bebidas                                0\n",
              "almacen                                0\n",
              "panaderia                              0\n",
              "lacteos                                0\n",
              "carnes                                 0\n",
              "verduleria_fruteria                    0\n",
              "alimentos_preparados_rotiseria         0\n",
              "articulos_limpieza_perfumeria          0\n",
              "indumentaria_calzado_textiles_hogar    0\n",
              "electronicos_articulos_hogar           0\n",
              "otros                                  0\n",
              "dtype: int64"
            ]
          },
          "execution_count": 7,
          "metadata": {},
          "output_type": "execute_result"
        }
      ],
      "source": [
        "# Obtengo el número de valores faltantes en cada columna\n",
        "\n",
        "df.isnull().sum() #las varibles edad tiene datos nulos\n"
      ]
    },
    {
      "cell_type": "markdown",
      "metadata": {
        "id": "xEguRMfz42Gt"
      },
      "source": [
        "**No se indican valores nulos en el df**"
      ]
    },
    {
      "cell_type": "code",
      "execution_count": 8,
      "metadata": {
        "colab": {
          "base_uri": "https://localhost:8080/"
        },
        "id": "Tu2iu_zs4leH",
        "outputId": "4ffeac27-5c23-4658-975a-3169e658450d"
      },
      "outputs": [
        {
          "name": "stdout",
          "output_type": "stream",
          "text": [
            "<class 'pandas.core.frame.DataFrame'>\n",
            "RangeIndex: 79 entries, 0 to 78\n",
            "Data columns (total 2 columns):\n",
            " #   Column                     Non-Null Count  Dtype  \n",
            "---  ------                     --------------  -----  \n",
            " 0   ventas_totales_medio_pago  79 non-null     float64\n",
            " 1   tarjetas_credito           79 non-null     float64\n",
            "dtypes: float64(2)\n",
            "memory usage: 1.4 KB\n"
          ]
        }
      ],
      "source": [
        "# Elimino las columnas irrelevantes o poco útiles para nuestro análisis\n",
        "\n",
        "df.drop(['indice_tiempo', 'ventas_precios_corrientes','bebidas','verduleria_fruteria'], axis=1, inplace=True)\n",
        "df.drop(['ventas_precios_constantes', 'ventas_totales_canal_venta','articulos_limpieza_perfumeria'], axis=1, inplace=True)\n",
        "df.drop(['salon_ventas', 'canales_on_line', 'tarjetas_debito','lacteos','otros','almacen'], axis=1, inplace=True)\n",
        "df.drop(['ventas_totales_grupo_articulos', 'efectivo', 'otros_medios','panaderia'], axis=1, inplace=True)\n",
        "df.drop(['indumentaria_calzado_textiles_hogar', 'subtotal_ventas_alimentos_bebidas'], axis=1, inplace=True)\n",
        "df.drop(['alimentos_preparados_rotiseria', 'electronicos_articulos_hogar','carnes'], axis=1, inplace=True)\n",
        "df.info()"
      ]
    },
    {
      "cell_type": "code",
      "execution_count": 9,
      "metadata": {
        "colab": {
          "base_uri": "https://localhost:8080/"
        },
        "id": "8n6Rf9P8cqOv",
        "outputId": "b2ba007d-96a7-4fe1-f3a2-372f036bdf4c"
      },
      "outputs": [
        {
          "name": "stdout",
          "output_type": "stream",
          "text": [
            "ventas_totales_medio_pago    7.823286e+07\n",
            "tarjetas_credito             2.933259e+07\n",
            "dtype: float64\n"
          ]
        }
      ],
      "source": [
        "# Calculamos la mediana de cada columna y\n",
        "# agregue ese valor para que sean 80 registros\n",
        "\n",
        "mediana1 = df.median()\n",
        "#mediana2 = df.median()\n",
        "print(mediana1)\n",
        "df =df._append(mediana1, ignore_index=True)"
      ]
    },
    {
      "cell_type": "code",
      "execution_count": 10,
      "metadata": {
        "colab": {
          "base_uri": "https://localhost:8080/"
        },
        "id": "dRyA7DsVgZpW",
        "outputId": "ae5374d0-777f-4ab8-b06a-6712713cd4cd"
      },
      "outputs": [
        {
          "name": "stdout",
          "output_type": "stream",
          "text": [
            "<class 'pandas.core.frame.DataFrame'>\n",
            "RangeIndex: 80 entries, 0 to 79\n",
            "Data columns (total 2 columns):\n",
            " #   Column                     Non-Null Count  Dtype  \n",
            "---  ------                     --------------  -----  \n",
            " 0   ventas_totales_medio_pago  80 non-null     float64\n",
            " 1   tarjetas_credito           80 non-null     float64\n",
            "dtypes: float64(2)\n",
            "memory usage: 1.4 KB\n"
          ]
        }
      ],
      "source": [
        "# Muestro como queda\n",
        "\n",
        "df.info()"
      ]
    },
    {
      "cell_type": "code",
      "execution_count": 11,
      "metadata": {
        "colab": {
          "base_uri": "https://localhost:8080/",
          "height": 807
        },
        "id": "sVXwP_6iCUun",
        "outputId": "3cafaaa8-a1b4-4089-f857-a6e9ec47ef1d"
      },
      "outputs": [
        {
          "data": {
            "image/png": "[encoded data removed]",
            "text/plain": [
              "<Figure size 1200x800 with 1 Axes>"
            ]
          },
          "metadata": {},
          "output_type": "display_data"
        }
      ],
      "source": [
        "# Detecto valores atípicos usando diagramas de caja\n",
        "\n",
        "# Creamos el gráfico de caja con las etiquetas ajustadas\n",
        "plt.figure(figsize=(12, 8))\n",
        "boxplot = df.boxplot(grid=False)\n",
        "plt.title(\"Gráfico de Caja de las Variables\")\n",
        "plt.ylabel(\"Valor de las Variables\")\n",
        "plt.xlabel(\"Variables\")\n",
        "\n",
        "# Ajustamos el ángulo de las etiquetas en el eje X\n",
        "plt.xticks(rotation=45, ha=\"right\")  # Ángulo de 45 grados y alineación a la derecha\n",
        "plt.tight_layout()\n",
        "plt.show()"
      ]
    },
    {
      "cell_type": "markdown",
      "metadata": {
        "id": "hSzNV8PczkA2"
      },
      "source": [
        "##4- Aplicar PROCESO para DEFINIR tu X e Y para APLICAR REGRESION LINEAL Y LOGISTICA segun el DATA SET a las variables que consideres adecuadas. RECUERDA ESTANDARIZAR LAS VARIABLES PARA CORRELACIÓN LOGÍSTICA."
      ]
    },
    {
      "cell_type": "code",
      "execution_count": 12,
      "metadata": {
        "id": "ieLHf6L_ftnr"
      },
      "outputs": [],
      "source": [
        "from sklearn.model_selection import cross_val_score\n",
        "from sklearn.svm import SVC\n",
        "from sklearn.model_selection import KFold\n"
      ]
    },
    {
      "cell_type": "code",
      "execution_count": 13,
      "metadata": {
        "colab": {
          "base_uri": "https://localhost:8080/",
          "height": 472
        },
        "id": "TisKWH4DRHzg",
        "outputId": "20244fae-68bf-4b28-e9c3-235a0dcd14a0"
      },
      "outputs": [
        {
          "data": {
            "image/png": "[encoded data removed]",
            "text/plain": [
              "<Figure size 640x480 with 1 Axes>"
            ]
          },
          "metadata": {},
          "output_type": "display_data"
        }
      ],
      "source": [
        "# Grafico la relacion entre los datos reales\n",
        "\n",
        "X = df['ventas_totales_medio_pago']\n",
        "y = df['tarjetas_credito']\n",
        "# Columnas a graficar\n",
        "\n",
        "plt.scatter(X, y, color='red')\n",
        "plt.xlabel('Ventas_Totales_Medio_Pago (pesos)')  # Etiqueta del eje X\n",
        "plt.ylabel('Monto de Tarjetas_redito (pesos)')  # Etiqueta del eje Y\n",
        "plt.title(\"Funcion de los años\")\n",
        "plt.show()"
      ]
    },
    {
      "cell_type": "markdown",
      "metadata": {
        "id": "ZAZhfytm_FxW"
      },
      "source": [
        "**Esto me dice que puedo aplicar una regresión Lineal**"
      ]
    },
    {
      "cell_type": "code",
      "execution_count": 14,
      "metadata": {
        "colab": {
          "base_uri": "https://localhost:8080/"
        },
        "id": "dACN3rZmWZ2o",
        "outputId": "ff4b8f40-e0db-4ad2-b406-76ebcd02820f"
      },
      "outputs": [
        {
          "name": "stdout",
          "output_type": "stream",
          "text": [
            "0.9991734047666138\n"
          ]
        }
      ],
      "source": [
        "# Calculo la correlación\n",
        "\n",
        "correlacion = np.corrcoef(X.ravel(), y.ravel())[0, 1]\n",
        "print(correlacion)"
      ]
    },
    {
      "cell_type": "markdown",
      "metadata": {
        "id": "O9zNfjHIYSL_"
      },
      "source": [
        "**Correlación alta : Indica que puedo usar regresión Lineal**"
      ]
    },
    {
      "cell_type": "code",
      "execution_count": 15,
      "metadata": {
        "colab": {
          "base_uri": "https://localhost:8080/"
        },
        "id": "AGg6EoVdt0kW",
        "outputId": "eba7a6f4-76f6-424e-cf16-375dd702f5ae"
      },
      "outputs": [
        {
          "name": "stdout",
          "output_type": "stream",
          "text": [
            "[[ 1.74092734]\n",
            " [ 0.25312198]\n",
            " [ 0.00819915]\n",
            " [-0.40575257]\n",
            " [-0.8188337 ]\n",
            " [ 0.49873174]\n",
            " [-0.84849118]\n",
            " [-0.07266699]\n",
            " [-0.50108927]\n",
            " [ 0.40332115]\n",
            " [-0.38296145]\n",
            " [ 0.01552325]\n",
            " [-0.79478058]\n",
            " [-0.43784166]\n",
            " [-0.00825362]\n",
            " [-0.40898985]\n",
            " [-0.83039051]\n",
            " [-0.14946979]\n",
            " [-0.06835466]\n",
            " [-0.75576479]\n",
            " [ 0.93352146]\n",
            " [-0.71011194]\n",
            " [-0.41952608]\n",
            " [-0.82518147]\n",
            " [ 2.37180391]\n",
            " [-0.84847723]\n",
            " [-0.76609167]\n",
            " [-0.34145211]\n",
            " [-0.83605993]\n",
            " [ 0.64618315]\n",
            " [-0.83014506]\n",
            " [-0.48138516]\n",
            " [ 1.72446971]\n",
            " [ 0.15912973]\n",
            " [-0.29387264]\n",
            " [ 3.2111703 ]\n",
            " [-0.80390536]\n",
            " [-0.66509439]\n",
            " [-0.40898985]\n",
            " [-0.65216642]\n",
            " [-0.23198391]\n",
            " [-0.70257976]\n",
            " [-0.38948434]\n",
            " [ 2.70217692]\n",
            " [ 0.14825883]\n",
            " [-0.74435734]\n",
            " [-0.59112325]\n",
            " [ 2.34420663]\n",
            " [ 0.53759377]\n",
            " [ 0.47680793]\n",
            " [ 1.26874401]\n",
            " [-0.46035519]\n",
            " [-0.62220053]\n",
            " [-0.87658439]\n",
            " [-0.11922565]\n",
            " [-0.72060168]\n",
            " [-0.86059942]\n",
            " [-0.5972221 ]\n",
            " [ 2.14132297]\n",
            " [-0.75188321]\n",
            " [ 0.27383953]\n",
            " [ 2.11016656]\n",
            " [-0.78226562]\n",
            " [-0.15265369]] [[-0.61655181]\n",
            " [-0.85989349]\n",
            " [-0.70780881]\n",
            " [-0.57512941]\n",
            " [-0.75767547]\n",
            " [-0.65473892]\n",
            " [-0.80824453]\n",
            " [ 1.43989628]\n",
            " [-0.85890768]\n",
            " [-0.8185363 ]\n",
            " [-0.27721705]\n",
            " [-0.51557335]\n",
            " [ 0.90928867]\n",
            " [-0.36162245]\n",
            " [ 0.9687693 ]\n",
            " [-0.31060431]]\n"
          ]
        }
      ],
      "source": [
        "from sklearn.model_selection import train_test_split\n",
        "from sklearn.linear_model import LinearRegression\n",
        "from sklearn.metrics import mean_squared_error, r2_score\n",
        "import matplotlib.pyplot as plt\n",
        "\n",
        "# ==============================================================================\n",
        "# Defino los datos a estudiar\n",
        "\n",
        "X = df['ventas_totales_medio_pago'].values.reshape(-1,1)\n",
        "y = df['tarjetas_credito'].values.reshape(-1,1)\n",
        "\n",
        "# ==============================================================================\n",
        "#Dividimos los datos en un conjunto de entrenamiento y un conjunto de prueba\n",
        "\n",
        "X_train, X_test, y_train, y_test = train_test_split(X, y, test_size=0.2, random_state=42)\n",
        "\n",
        "# Valores que no se estandarizan para calcular las metricas, para saber su\n",
        "# Verdadero impacto en millones de pesos\n",
        "\n",
        "X1_train, X1_test, y1_train, y1_test = train_test_split(X, y, test_size=0.2, random_state=42)\n",
        "\n",
        "# ==============================================================================\n",
        "# estandarizo\n",
        "\n",
        "sc_x = StandardScaler()\n",
        "X_train = sc_x.fit_transform(X_train)\n",
        "X_test = sc_x.transform(X_test)\n",
        "print(X_train , X_test)\n",
        "\n",
        "sc_y = StandardScaler()\n",
        "y_train = sc_y.fit_transform(y_train)\n",
        "y_test = sc_y.transform(y_test)\n",
        "\n",
        "# ==============================================================================\n",
        "# Creo un objeto de modelo de regresión lineal\n",
        "\n",
        "modelo = LinearRegression()\n",
        "\n",
        "# Creo Modelo1 no estandarizado\n",
        "\n",
        "modelo1 = LinearRegression()\n",
        "# ==============================================================================\n",
        "# Entrenamos el modelo a los datos de entrenamiento\n",
        "\n",
        "modelo.fit(X_train, y_train)\n",
        "\n",
        "# Modelo con variables sin estandarizar\n",
        "\n",
        "modelo1.fit(X1_train, y1_train)\n",
        "\n",
        "# ==============================================================================\n",
        "# Realizamos predicciones en el conjunto de prueba\n",
        "y_pred = modelo.predict(X_test)\n",
        "\n",
        "# Predicciones sin estandarizar\n",
        "\n",
        "y1_pred = modelo1.predict(X1_test)\n",
        "\n"
      ]
    },
    {
      "cell_type": "markdown",
      "metadata": {
        "id": "_yWNQwb3AGC1"
      },
      "source": [
        "**Indica alta Prediccion**"
      ]
    },
    {
      "cell_type": "code",
      "execution_count": 16,
      "metadata": {
        "colab": {
          "base_uri": "https://localhost:8080/",
          "height": 472
        },
        "id": "mfN-7gzl2u4g",
        "outputId": "3a855a41-8dd8-4ba5-aaa9-12ba76f7038c"
      },
      "outputs": [
        {
          "data": {
            "image/png": "[encoded data removed]",
            "text/plain": [
              "<Figure size 640x480 with 1 Axes>"
            ]
          },
          "metadata": {},
          "output_type": "display_data"
        }
      ],
      "source": [
        "# Visualizamos los resultados de la regresión lineal\n",
        "plt.scatter(X_train, y_train, color='blue', label='Datos De Entrenamiento')  # Grafico entrenamiento\n",
        "plt.scatter(X_test, y_test, color='yellow', label='Datos testeo')  # Grafico testeo\n",
        "plt.plot(X_test,y_pred , color='red', linewidth=2, label='Regresión Lineal')  # Grafico la prediccion\n",
        "\n",
        "plt.xlabel('Ventas_Totales_Medio_Pago (pesos)')  # Etiqueta del eje X\n",
        "plt.ylabel('Monto de Tarjetas_redito (pesos)')  # Etiqueta del eje Y\n",
        "plt.legend()  # Mostrar la leyenda\n",
        "plt.title('Regresión Lineal Predecicion del Monto de Tarjetas_credito')  # Título del gráfico\n",
        "\n",
        "plt.show()"
      ]
    },
    {
      "cell_type": "markdown",
      "metadata": {
        "id": "xlANjRu4Aa8j"
      },
      "source": [
        "**El Grafico Muestra ,como los datos ( Y de testeo) estan muy cerca de los (Y predicho ),**  \n",
        "\n",
        " ** **esto indica que el modelo que se utilizo es el correcto**  **"
      ]
    },
    {
      "cell_type": "markdown",
      "metadata": {
        "id": "acd2_sj6z706"
      },
      "source": [
        "##5- Aplicar alguna METRICAS de EVALUACION a los modelos anteriores y justificar la elección de dicha métrica."
      ]
    },
    {
      "cell_type": "code",
      "execution_count": 17,
      "metadata": {
        "colab": {
          "base_uri": "https://localhost:8080/"
        },
        "id": "K5Oaz4h_0CA8",
        "outputId": "adf4a55a-e79b-4b09-f5a1-eba19bb3b876"
      },
      "outputs": [
        {
          "name": "stdout",
          "output_type": "stream",
          "text": [
            "Error Medio Absoluto (MAE) : 1029879.327\n",
            "Error Cuadratico Medio (MSE) : 2929156456354.88\n",
            "Raiz Cuadrada del Error Cuadatico Medio (RMSE): 1711477.8574\n",
            "Coeficiente de Determinacion (R^2) : 0.9967\n"
          ]
        }
      ],
      "source": [
        "\n",
        "# Matris de confucion no se puede usar ya que nesecita valores\n",
        "# que indiquen prediccion de clase no valores continuos\n",
        "\n",
        "# Evaluamos el modelo\n",
        "\n",
        "from sklearn.metrics import mean_absolute_error, mean_squared_error, r2_score\n",
        "\n",
        "# Aplico Error Medio Absoluto\n",
        "print('Error Medio Absoluto (MAE) :', mean_absolute_error(y1_test, y1_pred).round(4))\n",
        "\n",
        "# Calculo Error Cuadratico Medio\n",
        "print('Error Cuadratico Medio (MSE) :', mean_squared_error(y1_test, y1_pred).round(4))\n",
        "\n",
        "# calculo (RMSE)la Raiz Cuadrada del Error Cuadatico Medio\n",
        "print('Raiz Cuadrada del Error Cuadatico Medio (RMSE):', mean_squared_error(y1_test, y1_pred, squared=False).round(4))\n",
        "\n",
        "# Calculo Coeficiente de Determinacion R^2\n",
        "print('Coeficiente de Determinacion (R^2) :', r2_score(y_test, y_pred).round(4))"
      ]
    },
    {
      "cell_type": "markdown",
      "metadata": {
        "id": "N5MvvT3zaKPM"
      },
      "source": [
        "**las metricas(MAE y RMSE) nos dan una idea real del error cometido en las predicciones y el (R^2) Da una indicación de qué tan bueno es el ajuste del modelo**"
      ]
    },
    {
      "cell_type": "markdown",
      "metadata": {
        "id": "eyul6-kk0Cgt"
      },
      "source": [
        "##6- Sacar una conclusión en función de los resultados, errores, y predicciones."
      ]
    },
    {
      "cell_type": "markdown",
      "metadata": {
        "id": "MJuP0FcO1QJv"
      },
      "source": [
        "**El error absoluto medio (MAE) y la Raíz Cuadrada del Error Cuadrático Medio,  medidos en pesos, indican un error de predicción entre (1.000.000 y 1.700.000 pesos) con predicciones que inician entre ( 10.000.000 hasta casi 180.000.000  pesos) y los X de alimentación para el modelo llegan hasta los 480.000.000 de pesos ,es decir los valores reales son muy grandes, por eso el error no parece tan grande . y por otro lado el (R^2) Si se acerca a \"1\" indica que el modelo explica toda la variabilidad de X, al predecir, debido a que estos datos son desde el (2023/07 , hasta 2017/01) , en este periodo hay una gran variación por la inflación y esto se expresa en la predicción.**"
      ]
    },
    {
      "cell_type": "markdown",
      "metadata": {
        "id": "xMm73P9l0G_V"
      },
      "source": [
        "##7- Aplicar un MODELO DE APRENDIZAJE NO SUPERVISADO (k-means, arbol de  decisión, KNN) Con el resultado obtenido del algoritmo de agrupamiento elegido, agregar al dataset una columna con esta nueva variables del grupo al que pertenece cada dato.\n"
      ]
    },
    {
      "cell_type": "code",
      "execution_count": 18,
      "metadata": {
        "colab": {
          "base_uri": "https://localhost:8080/"
        },
        "id": "WZwplaoM0JFk",
        "outputId": "049dd692-0deb-44cd-87df-3d13569e8b1a"
      },
      "outputs": [
        {
          "name": "stderr",
          "output_type": "stream",
          "text": [
            "/home/agustin/.local/lib/python3.8/site-packages/sklearn/cluster/_kmeans.py:1416: FutureWarning: The default value of `n_init` will change from 10 to 'auto' in 1.4. Set the value of `n_init` explicitly to suppress the warning\n",
            "  super()._check_params_vs_input(X, default_n_init=10)\n",
            "/home/agustin/.local/lib/python3.8/site-packages/sklearn/cluster/_kmeans.py:1416: FutureWarning: The default value of `n_init` will change from 10 to 'auto' in 1.4. Set the value of `n_init` explicitly to suppress the warning\n",
            "  super()._check_params_vs_input(X, default_n_init=10)\n",
            "/home/agustin/.local/lib/python3.8/site-packages/sklearn/cluster/_kmeans.py:1416: FutureWarning: The default value of `n_init` will change from 10 to 'auto' in 1.4. Set the value of `n_init` explicitly to suppress the warning\n",
            "  super()._check_params_vs_input(X, default_n_init=10)\n",
            "/home/agustin/.local/lib/python3.8/site-packages/sklearn/cluster/_kmeans.py:1416: FutureWarning: The default value of `n_init` will change from 10 to 'auto' in 1.4. Set the value of `n_init` explicitly to suppress the warning\n",
            "  super()._check_params_vs_input(X, default_n_init=10)\n",
            "/home/agustin/.local/lib/python3.8/site-packages/sklearn/cluster/_kmeans.py:1416: FutureWarning: The default value of `n_init` will change from 10 to 'auto' in 1.4. Set the value of `n_init` explicitly to suppress the warning\n",
            "  super()._check_params_vs_input(X, default_n_init=10)\n",
            "/home/agustin/.local/lib/python3.8/site-packages/sklearn/cluster/_kmeans.py:1416: FutureWarning: The default value of `n_init` will change from 10 to 'auto' in 1.4. Set the value of `n_init` explicitly to suppress the warning\n",
            "  super()._check_params_vs_input(X, default_n_init=10)\n",
            "/home/agustin/.local/lib/python3.8/site-packages/sklearn/cluster/_kmeans.py:1416: FutureWarning: The default value of `n_init` will change from 10 to 'auto' in 1.4. Set the value of `n_init` explicitly to suppress the warning\n",
            "  super()._check_params_vs_input(X, default_n_init=10)\n",
            "/home/agustin/.local/lib/python3.8/site-packages/sklearn/cluster/_kmeans.py:1416: FutureWarning: The default value of `n_init` will change from 10 to 'auto' in 1.4. Set the value of `n_init` explicitly to suppress the warning\n",
            "  super()._check_params_vs_input(X, default_n_init=10)\n",
            "/home/agustin/.local/lib/python3.8/site-packages/sklearn/cluster/_kmeans.py:1416: FutureWarning: The default value of `n_init` will change from 10 to 'auto' in 1.4. Set the value of `n_init` explicitly to suppress the warning\n",
            "  super()._check_params_vs_input(X, default_n_init=10)\n"
          ]
        }
      ],
      "source": [
        "from sklearn.cluster import KMeans\n",
        "from sklearn.preprocessing import MinMaxScaler #librerias para estandarizar\n",
        "\n",
        "# Primero calculamos el metodo del codo para saber K\n",
        "#Calculamos la métrica SSE Sum of Square Error para diferentes K (suma de errores al cuadrado)\n",
        "krango=range(1,10)\n",
        "sse=[]\n",
        "for k in krango:\n",
        "  kmeans=KMeans(n_clusters=k).fit(df)\n",
        "  sse.append(kmeans.inertia_)\n"
      ]
    },
    {
      "cell_type": "code",
      "execution_count": 19,
      "metadata": {
        "colab": {
          "base_uri": "https://localhost:8080/"
        },
        "id": "DIEk-n4gWEWL",
        "outputId": "f673a05c-ae98-48e5-b633-cb43852a05ab"
      },
      "outputs": [
        {
          "name": "stdout",
          "output_type": "stream",
          "text": [
            "[1.0374012212228577e+18, 2.4596356383710205e+17, 1.0846668155376363e+17, 6.582150040269978e+16, 4.0265345817181976e+16, 2.8064344662627284e+16, 1.8636478734717424e+16, 1.3159551542259272e+16, 1.0317171540744802e+16]\n"
          ]
        },
        {
          "data": {
            "text/plain": [
              "[1.0374012212228577e+18,\n",
              " 2.4596356383710205e+17,\n",
              " 1.0846668155376363e+17,\n",
              " 6.582150040269978e+16,\n",
              " 4.0265345817181976e+16,\n",
              " 2.8064344662627284e+16,\n",
              " 1.8636478734717424e+16,\n",
              " 1.3159551542259272e+16,\n",
              " 1.0317171540744802e+16]"
            ]
          },
          "execution_count": 19,
          "metadata": {},
          "output_type": "execute_result"
        }
      ],
      "source": [
        "print(sse)\n",
        "sse"
      ]
    },
    {
      "cell_type": "code",
      "execution_count": 20,
      "metadata": {
        "colab": {
          "base_uri": "https://localhost:8080/",
          "height": 498
        },
        "id": "AxCsz8rgWW-s",
        "outputId": "22850209-7ffd-4dc7-ca55-4f22ab424e3e"
      },
      "outputs": [
        {
          "data": {
            "text/plain": [
              "Text(0.5, 1.0, 'Metodo del Codo')"
            ]
          },
          "execution_count": 20,
          "metadata": {},
          "output_type": "execute_result"
        },
        {
          "data": {
            "image/png": "[encoded data removed]",
            "text/plain": [
              "<Figure size 640x480 with 1 Axes>"
            ]
          },
          "metadata": {},
          "output_type": "display_data"
        }
      ],
      "source": [
        "plt.xlabel('K', fontsize=15)\n",
        "plt.ylabel('SSE', fontsize=15)\n",
        "plt.plot(krango,sse)\n",
        "plt.title(\"Metodo del Codo\", fontsize=15)"
      ]
    },
    {
      "cell_type": "code",
      "execution_count": 21,
      "metadata": {
        "colab": {
          "base_uri": "https://localhost:8080/",
          "height": 763
        },
        "id": "6p-SWHeFYcGG",
        "outputId": "3bee90de-a4b6-4dcc-bb96-ea08bba5e0df"
      },
      "outputs": [
        {
          "name": "stderr",
          "output_type": "stream",
          "text": [
            "/home/agustin/.local/lib/python3.8/site-packages/sklearn/cluster/_kmeans.py:1416: FutureWarning: The default value of `n_init` will change from 10 to 'auto' in 1.4. Set the value of `n_init` explicitly to suppress the warning\n",
            "  super()._check_params_vs_input(X, default_n_init=10)\n"
          ]
        },
        {
          "data": {
            "text/html": [
              "<div>\n",
              "<style scoped>\n",
              "    .dataframe tbody tr th:only-of-type {\n",
              "        vertical-align: middle;\n",
              "    }\n",
              "\n",
              "    .dataframe tbody tr th {\n",
              "        vertical-align: top;\n",
              "    }\n",
              "\n",
              "    .dataframe thead th {\n",
              "        text-align: right;\n",
              "    }\n",
              "</style>\n",
              "<table border=\"1\" class=\"dataframe\">\n",
              "  <thead>\n",
              "    <tr style=\"text-align: right;\">\n",
              "      <th></th>\n",
              "      <th>ventas_totales_medio_pago</th>\n",
              "      <th>tarjetas_credito</th>\n",
              "      <th>cluster</th>\n",
              "    </tr>\n",
              "  </thead>\n",
              "  <tbody>\n",
              "    <tr>\n",
              "      <th>0</th>\n",
              "      <td>0.004083</td>\n",
              "      <td>0.004395</td>\n",
              "      <td>2</td>\n",
              "    </tr>\n",
              "    <tr>\n",
              "      <th>1</th>\n",
              "      <td>0.000000</td>\n",
              "      <td>0.000000</td>\n",
              "      <td>2</td>\n",
              "    </tr>\n",
              "    <tr>\n",
              "      <th>2</th>\n",
              "      <td>0.003910</td>\n",
              "      <td>0.003191</td>\n",
              "      <td>2</td>\n",
              "    </tr>\n",
              "    <tr>\n",
              "      <th>3</th>\n",
              "      <td>0.006876</td>\n",
              "      <td>0.006842</td>\n",
              "      <td>2</td>\n",
              "    </tr>\n",
              "    <tr>\n",
              "      <th>4</th>\n",
              "      <td>0.004324</td>\n",
              "      <td>0.005429</td>\n",
              "      <td>2</td>\n",
              "    </tr>\n",
              "    <tr>\n",
              "      <th>...</th>\n",
              "      <td>...</td>\n",
              "      <td>...</td>\n",
              "      <td>...</td>\n",
              "    </tr>\n",
              "    <tr>\n",
              "      <th>75</th>\n",
              "      <td>0.787912</td>\n",
              "      <td>0.809258</td>\n",
              "      <td>1</td>\n",
              "    </tr>\n",
              "    <tr>\n",
              "      <th>76</th>\n",
              "      <td>0.794663</td>\n",
              "      <td>0.828903</td>\n",
              "      <td>1</td>\n",
              "    </tr>\n",
              "    <tr>\n",
              "      <th>77</th>\n",
              "      <td>0.875483</td>\n",
              "      <td>0.875102</td>\n",
              "      <td>1</td>\n",
              "    </tr>\n",
              "    <tr>\n",
              "      <th>78</th>\n",
              "      <td>1.000000</td>\n",
              "      <td>1.000000</td>\n",
              "      <td>1</td>\n",
              "    </tr>\n",
              "    <tr>\n",
              "      <th>79</th>\n",
              "      <td>0.114389</td>\n",
              "      <td>0.125179</td>\n",
              "      <td>2</td>\n",
              "    </tr>\n",
              "  </tbody>\n",
              "</table>\n",
              "<p>80 rows × 3 columns</p>\n",
              "</div>"
            ],
            "text/plain": [
              "    ventas_totales_medio_pago  tarjetas_credito  cluster\n",
              "0                    0.004083          0.004395        2\n",
              "1                    0.000000          0.000000        2\n",
              "2                    0.003910          0.003191        2\n",
              "3                    0.006876          0.006842        2\n",
              "4                    0.004324          0.005429        2\n",
              "..                        ...               ...      ...\n",
              "75                   0.787912          0.809258        1\n",
              "76                   0.794663          0.828903        1\n",
              "77                   0.875483          0.875102        1\n",
              "78                   1.000000          1.000000        1\n",
              "79                   0.114389          0.125179        2\n",
              "\n",
              "[80 rows x 3 columns]"
            ]
          },
          "metadata": {},
          "output_type": "display_data"
        },
        {
          "data": {
            "text/html": [
              "<div>\n",
              "<style scoped>\n",
              "    .dataframe tbody tr th:only-of-type {\n",
              "        vertical-align: middle;\n",
              "    }\n",
              "\n",
              "    .dataframe tbody tr th {\n",
              "        vertical-align: top;\n",
              "    }\n",
              "\n",
              "    .dataframe thead th {\n",
              "        text-align: right;\n",
              "    }\n",
              "</style>\n",
              "<table border=\"1\" class=\"dataframe\">\n",
              "  <thead>\n",
              "    <tr style=\"text-align: right;\">\n",
              "      <th></th>\n",
              "      <th>ventas_totales_medio_pago</th>\n",
              "      <th>tarjetas_credito</th>\n",
              "      <th>cluster</th>\n",
              "    </tr>\n",
              "  </thead>\n",
              "  <tbody>\n",
              "    <tr>\n",
              "      <th>count</th>\n",
              "      <td>80.000000</td>\n",
              "      <td>80.000000</td>\n",
              "      <td>80.000000</td>\n",
              "    </tr>\n",
              "    <tr>\n",
              "      <th>mean</th>\n",
              "      <td>0.199750</td>\n",
              "      <td>0.204601</td>\n",
              "      <td>1.375000</td>\n",
              "    </tr>\n",
              "    <tr>\n",
              "      <th>std</th>\n",
              "      <td>0.235377</td>\n",
              "      <td>0.236480</td>\n",
              "      <td>0.862364</td>\n",
              "    </tr>\n",
              "    <tr>\n",
              "      <th>min</th>\n",
              "      <td>0.000000</td>\n",
              "      <td>0.000000</td>\n",
              "      <td>0.000000</td>\n",
              "    </tr>\n",
              "    <tr>\n",
              "      <th>25%</th>\n",
              "      <td>0.031887</td>\n",
              "      <td>0.036602</td>\n",
              "      <td>0.750000</td>\n",
              "    </tr>\n",
              "    <tr>\n",
              "      <th>50%</th>\n",
              "      <td>0.114389</td>\n",
              "      <td>0.125179</td>\n",
              "      <td>2.000000</td>\n",
              "    </tr>\n",
              "    <tr>\n",
              "      <th>75%</th>\n",
              "      <td>0.259118</td>\n",
              "      <td>0.257115</td>\n",
              "      <td>2.000000</td>\n",
              "    </tr>\n",
              "    <tr>\n",
              "      <th>max</th>\n",
              "      <td>1.000000</td>\n",
              "      <td>1.000000</td>\n",
              "      <td>2.000000</td>\n",
              "    </tr>\n",
              "  </tbody>\n",
              "</table>\n",
              "</div>"
            ],
            "text/plain": [
              "       ventas_totales_medio_pago  tarjetas_credito    cluster\n",
              "count                  80.000000         80.000000  80.000000\n",
              "mean                    0.199750          0.204601   1.375000\n",
              "std                     0.235377          0.236480   0.862364\n",
              "min                     0.000000          0.000000   0.000000\n",
              "25%                     0.031887          0.036602   0.750000\n",
              "50%                     0.114389          0.125179   2.000000\n",
              "75%                     0.259118          0.257115   2.000000\n",
              "max                     1.000000          1.000000   2.000000"
            ]
          },
          "execution_count": 21,
          "metadata": {},
          "output_type": "execute_result"
        }
      ],
      "source": [
        "# Agrupamos y agregamos la columna de grupos (cluster)\n",
        "\n",
        "escalador = MinMaxScaler().fit(df.values)  #estandariza los datos\n",
        "\n",
        "#crea el dataframe utilizando objetos de la clase definida arriba\n",
        "df1 = pd.DataFrame(escalador.transform(df.values),\n",
        "                       columns=[\"ventas_totales_medio_pago\", \"tarjetas_credito\"])\n",
        "\n",
        " #utilizamos el algoritmo de cluster\n",
        "kmeans = KMeans(n_clusters=3).fit(df1.values)\n",
        "\n",
        "#agrega a la base de datos la etiqueta del cluster q pertenece\n",
        "df1[\"cluster\"] = kmeans.labels_\n",
        "\n",
        "\n",
        "display(df1)\n",
        "df1.describe()"
      ]
    },
    {
      "cell_type": "code",
      "execution_count": 22,
      "metadata": {
        "colab": {
          "base_uri": "https://localhost:8080/",
          "height": 496
        },
        "id": "1aRoIojSgSVm",
        "outputId": "33d6b8c4-6381-42ae-dcaa-68ed717e07d7"
      },
      "outputs": [
        {
          "data": {
            "image/png": "[encoded data removed]",
            "text/plain": [
              "<Figure size 600x500 with 1 Axes>"
            ]
          },
          "metadata": {},
          "output_type": "display_data"
        }
      ],
      "source": [
        "# Graficamos los clusters y coloreamos los puntos del grupo\n",
        "\n",
        "plt.figure(figsize=(6, 5), dpi=100)\n",
        "\n",
        "# colores a utilizar con los centroides\n",
        "colores1 = [\"green\", \"black\", \"pink\"]\n",
        "\n",
        "# colores a utilizar con los grupos\n",
        "colores = [\"red\", \"blue\", \"yellow\"]\n",
        "\n",
        "for cluster in range(kmeans.n_clusters):\n",
        "\n",
        "    plt.scatter(df1[df1[\"cluster\"] == cluster][\"ventas_totales_medio_pago\"],\n",
        "                df1[df1[\"cluster\"] == cluster][\"tarjetas_credito\"],\n",
        "                marker=\"o\", s=180, color=colores[cluster], alpha=0.5)\n",
        "\n",
        "    plt.scatter(kmeans.cluster_centers_[cluster][0],\n",
        "                kmeans.cluster_centers_[cluster][1],\n",
        "                marker=\"P\", s=280, color=colores1[cluster])\n",
        "\n",
        "plt.title(\"Monto de Tarjetas_credito en Años\", fontsize=15)\n",
        "plt.xlabel(\"Ventas_Totales_Medio_Pago (Pesos)\", fontsize=15)\n",
        "plt.ylabel(\"Tarjetas_Credito (Pesos)\", fontsize=15)\n",
        "plt.text(1.15, 0.2, \"K = %i\" % kmeans.n_clusters, fontsize=25)\n",
        "plt.text(1.15, 0, \"Inercia = %0.2f\" % kmeans.inertia_, fontsize=25)\n",
        "plt.xlim(-0.1, 1.1)\n",
        "plt.ylim(-0.1, 1.1)\n",
        "plt.show()\n",
        "\n"
      ]
    },
    {
      "cell_type": "markdown",
      "metadata": {
        "id": "ZeLEH-bInwuM"
      },
      "source": [
        "**Hay una relación en la agrupación, que tiene como base la inflación**"
      ]
    },
    {
      "cell_type": "markdown",
      "metadata": {
        "id": "HYoODPEl0Mnd"
      },
      "source": [
        "##8- Generar una conclusión con relación a como podría obtener mejores datos en este dataset, o que información considera importante que se podria evaluar para mejorar su predicción encontrada."
      ]
    },
    {
      "cell_type": "markdown",
      "metadata": {
        "id": "XBIAC-qXTIXl"
      },
      "source": [
        "**Para generar una idea mas acabada, sobre como la variables (ventas_totales_medio_pago, tarjetas_credito ) debería poder compararse con (pago en efectivo , pago con debito), ya que al aumentar tanto el consumo por inflación, se debería notar una relación donde proporcionalmente disminuye el pago en efectivo y sube en porcentaje el pago con debito o crédito , debido a que uno no tiene tanto dinero en efectivo**"
      ]
    }
  ],
  "metadata": {
    "colab": {
      "provenance": []
    },
    "kernelspec": {
      "display_name": "Python 3",
      "name": "python3"
    },
    "language_info": {
      "codemirror_mode": {
        "name": "ipython",
        "version": 3
      },
      "file_extension": ".py",
      "mimetype": "text/x-python",
      "name": "python",
      "nbconvert_exporter": "python",
      "pygments_lexer": "ipython3",
      "version": "3.8.10"
    }
  },
  "nbformat": 4,
  "nbformat_minor": 0
}
