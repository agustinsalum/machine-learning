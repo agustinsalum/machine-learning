{
 "cells": [
  {
   "cell_type": "markdown",
   "metadata": {},
   "source": [
    "Si existe una relación entre la cantidad de horas que tus estudiantes estudian y las calificaciones que obtienen en un examen. Para hacerlo, decides recopilar datos de 20 estudiantes que tomaron un examen recientemente.\n",
    "\n",
    "Horas de Estudio (X) | Notas del Examen (Y)\n",
    "---------------------------------------------\n",
    "      1.0                  60\n",
    "      2.0                  65\n",
    "      2.5                  70\n",
    "      3.0                  75\n",
    "      3.5                  80\n",
    "      4.0                  85\n",
    "      4.5                  90\n",
    "      5.0                  95\n",
    "      5.5                  100\n",
    "      6.0                  105\n",
    "      6.5                  110\n",
    "      7.0                  115\n",
    "      7.5                  120\n",
    "      8.0                  125\n",
    "      8.5                  130\n",
    "      9.0                  135\n",
    "      9.5                  140\n",
    "     10.0                  145\n",
    "     10.5                  150\n",
    "     11.0                  155"
   ]
  },
  {
   "cell_type": "markdown",
   "metadata": {},
   "source": [
    "Y (variable dependiente)\n",
    "X (variable independiente)\n",
    "\n",
    "## Regresión Lineal Simple y Múltiple\n",
    "\n",
    "La regresión lineal simple se utiliza cuando tienes una sola variable independiente (X) que se utiliza para predecir una variable dependiente (Y). La regresión lineal múltiple se emplea cuando tienes dos o más variables independientes (X1, X2, X3, etc.) que se utilizan para predecir la variable dependiente (Y). El modelo de regresión lineal simple se puede representar como \"y = mx + b\", donde \"m\" es la pendiente de la línea y \"b\" es la intersección con el eje Y (ordenada al origen).\n",
    "\n",
    "### Modelo Lineal\n",
    "\n",
    "La ecuación \"y = mx + b\" es la representación de un modelo de regresión lineal simple, donde \"y\" es la variable dependiente, \"x\" es la variable independiente, \"m\" es la pendiente de la línea, y \"b\" es la intersección con el eje Y. En una regresión lineal múltiple, la ecuación sería más compleja, con múltiples coeficientes para las variables independientes.\n",
    "\n",
    "### Error Cuadrático\n",
    "\n",
    "El error cuadrático mide el error entre los valores predichos por el modelo y los valores reales. En una regresión, se utiliza la suma de los cuadrados de las diferencias entre los valores reales (Y) y los valores predichos (ŷ) para calcular el error cuadrático. La fórmula comúnmente utilizada es:\n",
    "\n",
    "Error Cuadrático = Σ(Y - ŷ)²\n",
    "\n",
    "El objetivo en la regresión lineal es minimizar este error cuadrático, ajustando los parámetros (pendiente y ordenada al origen) de la línea de regresión para que se ajuste lo mejor posible a los datos reales. "
   ]
  },
  {
   "cell_type": "code",
   "execution_count": null,
   "metadata": {},
   "outputs": [],
   "source": []
  }
 ],
 "metadata": {
  "language_info": {
   "name": "python"
  },
  "orig_nbformat": 4
 },
 "nbformat": 4,
 "nbformat_minor": 2
}
