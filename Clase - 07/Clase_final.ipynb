{
  "cells": [
    {
      "cell_type": "markdown",
      "metadata": {
        "id": "R4vKNvPZUjVE"
      },
      "source": [
        "\n",
        "# **Creacion de un perceptron de forma manual sin libreria**"
      ]
    },
    {
      "cell_type": "code",
      "execution_count": 24,
      "metadata": {
        "id": "P5P2Y-SL4tDA"
      },
      "outputs": [],
      "source": [
        "import numpy as np\n",
        "import matplotlib.pyplot as plt\n",
        "from sklearn import datasets\n",
        "from sklearn.model_selection import train_test_split\n",
        "from sklearn.metrics import accuracy_score\n"
      ]
    },
    {
      "cell_type": "code",
      "execution_count": 25,
      "metadata": {
        "colab": {
          "base_uri": "https://localhost:8080/",
          "height": 401
        },
        "id": "iQr2frNBkhA9",
        "outputId": "2b6760e5-4f47-481d-daad-0c7143b473cd"
      },
      "outputs": [
        {
          "name": "stdout",
          "output_type": "stream",
          "text": [
            "Exactitud: 0.07777777777777778\n"
          ]
        },
        {
          "data": {
            "image/png": "[encoded data removed]",
            "text/plain": [
              "<Figure size 1000x400 with 10 Axes>"
            ]
          },
          "metadata": {},
          "output_type": "display_data"
        }
      ],
      "source": [
        "import numpy as np\n",
        "import matplotlib.pyplot as plt\n",
        "from sklearn import datasets\n",
        "from sklearn.model_selection import train_test_split\n",
        "from sklearn.metrics import accuracy_score\n",
        "\n",
        "# Función de activación (función escalón)\n",
        "def activacion(valor):\n",
        "    if valor >= 0:\n",
        "        return 1\n",
        "    else:\n",
        "        return 0\n",
        "\n",
        "# Función de entrenamiento del perceptrón\n",
        "def entrenar_perceptron(X, Y, lr=0.1, epochs=1000):\n",
        "    num_entradas = X.shape[1]\n",
        "    num_muestras = X.shape[0]\n",
        "    pesos = np.random.rand(num_entradas)\n",
        "    for epoch in range(epochs):\n",
        "        for i in range(num_muestras):\n",
        "            entrada = X[i]\n",
        "            salida_real = Y[i]\n",
        "            salida_predicha = activacion(np.dot(entrada, pesos))\n",
        "            error = salida_real - salida_predicha\n",
        "            pesos += lr * error * entrada\n",
        "    return pesos\n",
        "\n",
        "# Cargar el conjunto de datos de Dígitos\n",
        "digits = datasets.load_digits()\n",
        "X = digits.data\n",
        "Y = digits.target\n",
        "\n",
        "# Dividir los datos en conjuntos de entrenamiento y prueba\n",
        "X_train, X_test, Y_train, Y_test = train_test_split(X, Y, test_size=0.2, random_state=42)\n",
        "\n",
        "# Entrenar el perceptrón\n",
        "pesos_entrenados = entrenar_perceptron(X_train, Y_train)\n",
        "\n",
        "# Realizar predicciones en el conjunto de prueba\n",
        "Y_pred = [activacion(np.dot(x, pesos_entrenados)) for x in X_test]\n",
        "\n",
        "# Calcular la precisión del modelo\n",
        "exactitud = accuracy_score(Y_test, Y_pred)\n",
        "print(\"Exactitud:\", exactitud)\n",
        "\n",
        "# Visualizar algunos ejemplos y sus predicciones\n",
        "plt.figure(figsize=(10, 4))\n",
        "for i in range(10):\n",
        "    plt.subplot(2, 5, i + 1)\n",
        "    plt.imshow(X_test[i].reshape(8, 8), cmap=plt.cm.gray_r, interpolation='nearest')\n",
        "    plt.title(f'Predicción: {Y_pred[i]}')\n",
        "plt.show()"
      ]
    },
    {
      "cell_type": "markdown",
      "metadata": {
        "id": "PWPHVCuQTpl1"
      },
      "source": []
    },
    {
      "cell_type": "markdown",
      "metadata": {
        "id": "NpJvg3-xUH0t"
      },
      "source": [
        "# **Ejemplo de perceptron con libreria**"
      ]
    },
    {
      "cell_type": "markdown",
      "metadata": {
        "id": "sQFnqzdec91I"
      },
      "source": [
        "### **Etapa1**\n",
        "Utilizar tensorflow para poder crear percetron de forma mas simple y limpia, ademas la libreria nos posibilita empezar a trabajar con redes neuronales multicapas\n"
      ]
    },
    {
      "cell_type": "code",
      "execution_count": 26,
      "metadata": {},
      "outputs": [
        {
          "name": "stdout",
          "output_type": "stream",
          "text": [
            "Requirement already satisfied: tensorflow in /home/agustin/.local/lib/python3.8/site-packages (2.13.1)\n",
            "Requirement already satisfied: numpy<=1.24.3,>=1.22 in /home/agustin/.local/lib/python3.8/site-packages (from tensorflow) (1.24.3)\n",
            "Requirement already satisfied: grpcio<2.0,>=1.24.3 in /home/agustin/.local/lib/python3.8/site-packages (from tensorflow) (1.59.0)\n",
            "Requirement already satisfied: packaging in /home/agustin/.local/lib/python3.8/site-packages (from tensorflow) (23.1)\n",
            "Requirement already satisfied: tensorboard<2.14,>=2.13 in /home/agustin/.local/lib/python3.8/site-packages (from tensorflow) (2.13.0)\n",
            "Requirement already satisfied: libclang>=13.0.0 in /home/agustin/.local/lib/python3.8/site-packages (from tensorflow) (16.0.6)\n",
            "Requirement already satisfied: keras<2.14,>=2.13.1 in /home/agustin/.local/lib/python3.8/site-packages (from tensorflow) (2.13.1)\n",
            "Requirement already satisfied: setuptools in /usr/lib/python3/dist-packages (from tensorflow) (45.2.0)\n",
            "Requirement already satisfied: opt-einsum>=2.3.2 in /home/agustin/.local/lib/python3.8/site-packages (from tensorflow) (3.3.0)\n",
            "Requirement already satisfied: absl-py>=1.0.0 in /home/agustin/.local/lib/python3.8/site-packages (from tensorflow) (2.0.0)\n",
            "Requirement already satisfied: wrapt>=1.11.0 in /home/agustin/.local/lib/python3.8/site-packages (from tensorflow) (1.15.0)\n",
            "Requirement already satisfied: tensorflow-estimator<2.14,>=2.13.0 in /home/agustin/.local/lib/python3.8/site-packages (from tensorflow) (2.13.0)\n",
            "Requirement already satisfied: astunparse>=1.6.0 in /home/agustin/.local/lib/python3.8/site-packages (from tensorflow) (1.6.3)\n",
            "Requirement already satisfied: protobuf!=4.21.0,!=4.21.1,!=4.21.2,!=4.21.3,!=4.21.4,!=4.21.5,<5.0.0dev,>=3.20.3 in /home/agustin/.local/lib/python3.8/site-packages (from tensorflow) (4.24.4)\n",
            "Requirement already satisfied: typing-extensions<4.6.0,>=3.6.6 in /home/agustin/.local/lib/python3.8/site-packages (from tensorflow) (4.5.0)\n",
            "Requirement already satisfied: flatbuffers>=23.1.21 in /home/agustin/.local/lib/python3.8/site-packages (from tensorflow) (23.5.26)\n",
            "Requirement already satisfied: termcolor>=1.1.0 in /home/agustin/.local/lib/python3.8/site-packages (from tensorflow) (2.3.0)\n",
            "Requirement already satisfied: tensorflow-io-gcs-filesystem>=0.23.1; platform_machine != \"arm64\" or platform_system != \"Darwin\" in /home/agustin/.local/lib/python3.8/site-packages (from tensorflow) (0.34.0)\n",
            "Requirement already satisfied: h5py>=2.9.0 in /home/agustin/.local/lib/python3.8/site-packages (from tensorflow) (3.10.0)\n",
            "Requirement already satisfied: six>=1.12.0 in /usr/lib/python3/dist-packages (from tensorflow) (1.14.0)\n",
            "Requirement already satisfied: google-pasta>=0.1.1 in /home/agustin/.local/lib/python3.8/site-packages (from tensorflow) (0.2.0)\n",
            "Requirement already satisfied: gast<=0.4.0,>=0.2.1 in /home/agustin/.local/lib/python3.8/site-packages (from tensorflow) (0.4.0)\n",
            "Requirement already satisfied: requests<3,>=2.21.0 in /usr/lib/python3/dist-packages (from tensorboard<2.14,>=2.13->tensorflow) (2.22.0)\n",
            "Requirement already satisfied: google-auth-oauthlib<1.1,>=0.5 in /home/agustin/.local/lib/python3.8/site-packages (from tensorboard<2.14,>=2.13->tensorflow) (1.0.0)\n",
            "Requirement already satisfied: markdown>=2.6.8 in /home/agustin/.local/lib/python3.8/site-packages (from tensorboard<2.14,>=2.13->tensorflow) (3.5)\n",
            "Requirement already satisfied: google-auth<3,>=1.6.3 in /home/agustin/.local/lib/python3.8/site-packages (from tensorboard<2.14,>=2.13->tensorflow) (2.23.3)\n",
            "Requirement already satisfied: tensorboard-data-server<0.8.0,>=0.7.0 in /home/agustin/.local/lib/python3.8/site-packages (from tensorboard<2.14,>=2.13->tensorflow) (0.7.2)\n",
            "Requirement already satisfied: wheel>=0.26 in /usr/lib/python3/dist-packages (from tensorboard<2.14,>=2.13->tensorflow) (0.34.2)\n",
            "Requirement already satisfied: werkzeug>=1.0.1 in /home/agustin/.local/lib/python3.8/site-packages (from tensorboard<2.14,>=2.13->tensorflow) (3.0.1)\n",
            "Requirement already satisfied: requests-oauthlib>=0.7.0 in /home/agustin/.local/lib/python3.8/site-packages (from google-auth-oauthlib<1.1,>=0.5->tensorboard<2.14,>=2.13->tensorflow) (1.3.1)\n",
            "Requirement already satisfied: importlib-metadata>=4.4; python_version < \"3.10\" in /home/agustin/.local/lib/python3.8/site-packages (from markdown>=2.6.8->tensorboard<2.14,>=2.13->tensorflow) (6.8.0)\n",
            "Requirement already satisfied: cachetools<6.0,>=2.0.0 in /home/agustin/.local/lib/python3.8/site-packages (from google-auth<3,>=1.6.3->tensorboard<2.14,>=2.13->tensorflow) (5.3.2)\n",
            "Requirement already satisfied: pyasn1-modules>=0.2.1 in /home/agustin/.local/lib/python3.8/site-packages (from google-auth<3,>=1.6.3->tensorboard<2.14,>=2.13->tensorflow) (0.3.0)\n",
            "Requirement already satisfied: rsa<5,>=3.1.4 in /home/agustin/.local/lib/python3.8/site-packages (from google-auth<3,>=1.6.3->tensorboard<2.14,>=2.13->tensorflow) (4.9)\n",
            "Requirement already satisfied: MarkupSafe>=2.1.1 in /home/agustin/.local/lib/python3.8/site-packages (from werkzeug>=1.0.1->tensorboard<2.14,>=2.13->tensorflow) (2.1.3)\n",
            "Requirement already satisfied: oauthlib>=3.0.0 in /usr/lib/python3/dist-packages (from requests-oauthlib>=0.7.0->google-auth-oauthlib<1.1,>=0.5->tensorboard<2.14,>=2.13->tensorflow) (3.1.0)\n",
            "Requirement already satisfied: zipp>=0.5 in /home/agustin/.local/lib/python3.8/site-packages (from importlib-metadata>=4.4; python_version < \"3.10\"->markdown>=2.6.8->tensorboard<2.14,>=2.13->tensorflow) (3.16.2)\n",
            "Requirement already satisfied: pyasn1<0.6.0,>=0.4.6 in /home/agustin/.local/lib/python3.8/site-packages (from pyasn1-modules>=0.2.1->google-auth<3,>=1.6.3->tensorboard<2.14,>=2.13->tensorflow) (0.5.0)\n",
            "Note: you may need to restart the kernel to use updated packages.\n"
          ]
        }
      ],
      "source": [
        "pip install tensorflow"
      ]
    },
    {
      "cell_type": "code",
      "execution_count": 27,
      "metadata": {
        "id": "IQ56aSHjdjQn"
      },
      "outputs": [
        {
          "name": "stdout",
          "output_type": "stream",
          "text": [
            "Epoch 1/100\n",
            "45/45 [==============================] - 0s 2ms/step - loss: -16.5232 - accuracy: 0.1663\n",
            "Epoch 2/100\n",
            "45/45 [==============================] - 0s 2ms/step - loss: -62.6264 - accuracy: 0.1072\n",
            "Epoch 3/100\n",
            "45/45 [==============================] - 0s 2ms/step - loss: -108.3151 - accuracy: 0.1072\n",
            "Epoch 4/100\n",
            "45/45 [==============================] - 0s 2ms/step - loss: -154.3869 - accuracy: 0.1072\n",
            "Epoch 5/100\n",
            "45/45 [==============================] - 0s 2ms/step - loss: -201.3161 - accuracy: 0.1072\n",
            "Epoch 6/100\n",
            "45/45 [==============================] - 0s 2ms/step - loss: -248.0877 - accuracy: 0.1072\n",
            "Epoch 7/100\n",
            "45/45 [==============================] - 0s 2ms/step - loss: -295.2192 - accuracy: 0.1072\n",
            "Epoch 8/100\n",
            "45/45 [==============================] - 0s 2ms/step - loss: -342.3384 - accuracy: 0.1072\n",
            "Epoch 9/100\n",
            "45/45 [==============================] - 0s 2ms/step - loss: -389.4898 - accuracy: 0.1072\n",
            "Epoch 10/100\n",
            "45/45 [==============================] - 0s 1ms/step - loss: -436.9776 - accuracy: 0.1072\n",
            "Epoch 11/100\n",
            "45/45 [==============================] - 0s 2ms/step - loss: -483.8720 - accuracy: 0.1072\n",
            "Epoch 12/100\n",
            "45/45 [==============================] - 0s 2ms/step - loss: -531.5446 - accuracy: 0.1072\n",
            "Epoch 13/100\n",
            "45/45 [==============================] - 0s 3ms/step - loss: -578.6621 - accuracy: 0.1072\n",
            "Epoch 14/100\n",
            "45/45 [==============================] - 0s 2ms/step - loss: -626.2146 - accuracy: 0.1072\n",
            "Epoch 15/100\n",
            "45/45 [==============================] - 0s 2ms/step - loss: -673.5433 - accuracy: 0.1072\n",
            "Epoch 16/100\n",
            "45/45 [==============================] - 0s 2ms/step - loss: -721.0497 - accuracy: 0.1072\n",
            "Epoch 17/100\n",
            "45/45 [==============================] - 0s 2ms/step - loss: -768.4345 - accuracy: 0.1072\n",
            "Epoch 18/100\n",
            "45/45 [==============================] - 0s 2ms/step - loss: -815.9557 - accuracy: 0.1072\n",
            "Epoch 19/100\n",
            "45/45 [==============================] - 0s 2ms/step - loss: -863.3692 - accuracy: 0.1072\n",
            "Epoch 20/100\n",
            "45/45 [==============================] - 0s 2ms/step - loss: -910.8096 - accuracy: 0.1072\n",
            "Epoch 21/100\n",
            "45/45 [==============================] - 0s 2ms/step - loss: -958.3173 - accuracy: 0.1072\n",
            "Epoch 22/100\n",
            "45/45 [==============================] - 0s 2ms/step - loss: -1005.7744 - accuracy: 0.1072\n",
            "Epoch 23/100\n",
            "45/45 [==============================] - 0s 2ms/step - loss: -1053.3149 - accuracy: 0.1072\n",
            "Epoch 24/100\n",
            "45/45 [==============================] - 0s 2ms/step - loss: -1100.6373 - accuracy: 0.1072\n",
            "Epoch 25/100\n",
            "45/45 [==============================] - 0s 2ms/step - loss: -1148.2888 - accuracy: 0.1072\n",
            "Epoch 26/100\n",
            "45/45 [==============================] - 0s 2ms/step - loss: -1195.7542 - accuracy: 0.1072\n",
            "Epoch 27/100\n",
            "45/45 [==============================] - 0s 2ms/step - loss: -1243.1965 - accuracy: 0.1072\n",
            "Epoch 28/100\n",
            "45/45 [==============================] - 0s 3ms/step - loss: -1290.8323 - accuracy: 0.1072\n",
            "Epoch 29/100\n",
            "45/45 [==============================] - 0s 2ms/step - loss: -1338.2288 - accuracy: 0.1072\n",
            "Epoch 30/100\n",
            "45/45 [==============================] - 0s 2ms/step - loss: -1385.8073 - accuracy: 0.1072\n",
            "Epoch 31/100\n",
            "45/45 [==============================] - 0s 2ms/step - loss: -1433.3912 - accuracy: 0.1072\n",
            "Epoch 32/100\n",
            "45/45 [==============================] - 0s 2ms/step - loss: -1480.8058 - accuracy: 0.1072\n",
            "Epoch 33/100\n",
            "45/45 [==============================] - 0s 1ms/step - loss: -1528.4783 - accuracy: 0.1072\n",
            "Epoch 34/100\n",
            "45/45 [==============================] - 0s 1ms/step - loss: -1575.9636 - accuracy: 0.1072\n",
            "Epoch 35/100\n",
            "45/45 [==============================] - 0s 1ms/step - loss: -1623.6134 - accuracy: 0.1072\n",
            "Epoch 36/100\n",
            "45/45 [==============================] - 0s 1ms/step - loss: -1671.0443 - accuracy: 0.1072\n",
            "Epoch 37/100\n",
            "45/45 [==============================] - 0s 1ms/step - loss: -1718.6665 - accuracy: 0.1072\n",
            "Epoch 38/100\n",
            "45/45 [==============================] - 0s 1ms/step - loss: -1766.2509 - accuracy: 0.1072\n",
            "Epoch 39/100\n",
            "45/45 [==============================] - 0s 1ms/step - loss: -1813.9545 - accuracy: 0.1072\n",
            "Epoch 40/100\n",
            "45/45 [==============================] - 0s 2ms/step - loss: -1861.3906 - accuracy: 0.1072\n",
            "Epoch 41/100\n",
            "45/45 [==============================] - 0s 2ms/step - loss: -1908.9558 - accuracy: 0.1072\n",
            "Epoch 42/100\n",
            "45/45 [==============================] - 0s 2ms/step - loss: -1956.6282 - accuracy: 0.1072\n",
            "Epoch 43/100\n",
            "45/45 [==============================] - 0s 2ms/step - loss: -2004.0922 - accuracy: 0.1072\n",
            "Epoch 44/100\n",
            "45/45 [==============================] - 0s 2ms/step - loss: -2051.8901 - accuracy: 0.1072\n",
            "Epoch 45/100\n",
            "45/45 [==============================] - 0s 2ms/step - loss: -2099.3325 - accuracy: 0.1072\n",
            "Epoch 46/100\n",
            "45/45 [==============================] - 0s 2ms/step - loss: -2146.8650 - accuracy: 0.1072\n",
            "Epoch 47/100\n",
            "45/45 [==============================] - 0s 2ms/step - loss: -2194.5537 - accuracy: 0.1072\n",
            "Epoch 48/100\n",
            "45/45 [==============================] - 0s 2ms/step - loss: -2242.2424 - accuracy: 0.1072\n",
            "Epoch 49/100\n",
            "45/45 [==============================] - 0s 2ms/step - loss: -2289.8337 - accuracy: 0.1072\n",
            "Epoch 50/100\n",
            "45/45 [==============================] - 0s 2ms/step - loss: -2337.2244 - accuracy: 0.1072\n",
            "Epoch 51/100\n",
            "45/45 [==============================] - 0s 2ms/step - loss: -2385.1472 - accuracy: 0.1072\n",
            "Epoch 52/100\n",
            "45/45 [==============================] - 0s 2ms/step - loss: -2432.6687 - accuracy: 0.1072\n",
            "Epoch 53/100\n",
            "45/45 [==============================] - 0s 2ms/step - loss: -2480.2642 - accuracy: 0.1072\n",
            "Epoch 54/100\n",
            "45/45 [==============================] - 0s 2ms/step - loss: -2528.0059 - accuracy: 0.1072\n",
            "Epoch 55/100\n",
            "45/45 [==============================] - 0s 2ms/step - loss: -2575.5034 - accuracy: 0.1072\n",
            "Epoch 56/100\n",
            "45/45 [==============================] - 0s 2ms/step - loss: -2623.2109 - accuracy: 0.1072\n",
            "Epoch 57/100\n",
            "45/45 [==============================] - 0s 2ms/step - loss: -2670.7427 - accuracy: 0.1072\n",
            "Epoch 58/100\n",
            "45/45 [==============================] - 0s 2ms/step - loss: -2718.2676 - accuracy: 0.1072\n",
            "Epoch 59/100\n",
            "45/45 [==============================] - 0s 2ms/step - loss: -2766.1670 - accuracy: 0.1072\n",
            "Epoch 60/100\n",
            "45/45 [==============================] - 0s 2ms/step - loss: -2813.4910 - accuracy: 0.1072\n",
            "Epoch 61/100\n",
            "45/45 [==============================] - 0s 2ms/step - loss: -2861.1169 - accuracy: 0.1072\n",
            "Epoch 62/100\n",
            "45/45 [==============================] - 0s 2ms/step - loss: -2908.8748 - accuracy: 0.1072\n",
            "Epoch 63/100\n",
            "45/45 [==============================] - 0s 2ms/step - loss: -2956.4028 - accuracy: 0.1072\n",
            "Epoch 64/100\n",
            "45/45 [==============================] - 0s 2ms/step - loss: -3003.9106 - accuracy: 0.1072\n",
            "Epoch 65/100\n",
            "45/45 [==============================] - 0s 2ms/step - loss: -3051.6401 - accuracy: 0.1072\n",
            "Epoch 66/100\n",
            "45/45 [==============================] - 0s 2ms/step - loss: -3099.2068 - accuracy: 0.1072\n",
            "Epoch 67/100\n",
            "45/45 [==============================] - 0s 2ms/step - loss: -3146.7241 - accuracy: 0.1072\n",
            "Epoch 68/100\n",
            "45/45 [==============================] - 0s 2ms/step - loss: -3194.4756 - accuracy: 0.1072\n",
            "Epoch 69/100\n",
            "45/45 [==============================] - 0s 2ms/step - loss: -3242.0295 - accuracy: 0.1072\n",
            "Epoch 70/100\n",
            "45/45 [==============================] - 0s 2ms/step - loss: -3289.7129 - accuracy: 0.1072\n",
            "Epoch 71/100\n",
            "45/45 [==============================] - 0s 2ms/step - loss: -3337.2371 - accuracy: 0.1072\n",
            "Epoch 72/100\n",
            "45/45 [==============================] - 0s 2ms/step - loss: -3384.8879 - accuracy: 0.1072\n",
            "Epoch 73/100\n",
            "45/45 [==============================] - 0s 2ms/step - loss: -3432.6711 - accuracy: 0.1072\n",
            "Epoch 74/100\n",
            "45/45 [==============================] - 0s 2ms/step - loss: -3480.0720 - accuracy: 0.1072\n",
            "Epoch 75/100\n",
            "45/45 [==============================] - 0s 2ms/step - loss: -3527.8096 - accuracy: 0.1072\n",
            "Epoch 76/100\n",
            "45/45 [==============================] - 0s 2ms/step - loss: -3575.4617 - accuracy: 0.1072\n",
            "Epoch 77/100\n",
            "45/45 [==============================] - 0s 2ms/step - loss: -3623.1794 - accuracy: 0.1072\n",
            "Epoch 78/100\n",
            "45/45 [==============================] - 0s 2ms/step - loss: -3670.6096 - accuracy: 0.1072\n",
            "Epoch 79/100\n",
            "45/45 [==============================] - 0s 2ms/step - loss: -3718.3079 - accuracy: 0.1072\n",
            "Epoch 80/100\n",
            "45/45 [==============================] - 0s 2ms/step - loss: -3765.9724 - accuracy: 0.1072\n",
            "Epoch 81/100\n",
            "45/45 [==============================] - 0s 2ms/step - loss: -3813.6250 - accuracy: 0.1072\n",
            "Epoch 82/100\n",
            "45/45 [==============================] - 0s 2ms/step - loss: -3861.0046 - accuracy: 0.1072\n",
            "Epoch 83/100\n",
            "45/45 [==============================] - 0s 2ms/step - loss: -3908.8586 - accuracy: 0.1072\n",
            "Epoch 84/100\n",
            "45/45 [==============================] - 0s 2ms/step - loss: -3956.3782 - accuracy: 0.1072\n",
            "Epoch 85/100\n",
            "45/45 [==============================] - 0s 2ms/step - loss: -4004.2209 - accuracy: 0.1072\n",
            "Epoch 86/100\n",
            "45/45 [==============================] - 0s 2ms/step - loss: -4051.6487 - accuracy: 0.1072\n",
            "Epoch 87/100\n",
            "45/45 [==============================] - 0s 2ms/step - loss: -4099.4448 - accuracy: 0.1072\n",
            "Epoch 88/100\n",
            "45/45 [==============================] - 0s 2ms/step - loss: -4147.0186 - accuracy: 0.1072\n",
            "Epoch 89/100\n",
            "45/45 [==============================] - 0s 2ms/step - loss: -4194.6187 - accuracy: 0.1072\n",
            "Epoch 90/100\n",
            "45/45 [==============================] - 0s 2ms/step - loss: -4242.3438 - accuracy: 0.1072\n",
            "Epoch 91/100\n",
            "45/45 [==============================] - 0s 2ms/step - loss: -4289.9170 - accuracy: 0.1072\n",
            "Epoch 92/100\n",
            "45/45 [==============================] - 0s 2ms/step - loss: -4337.5352 - accuracy: 0.1072\n",
            "Epoch 93/100\n",
            "45/45 [==============================] - 0s 2ms/step - loss: -4385.0625 - accuracy: 0.1072\n",
            "Epoch 94/100\n",
            "45/45 [==============================] - 0s 2ms/step - loss: -4432.8184 - accuracy: 0.1072\n",
            "Epoch 95/100\n",
            "45/45 [==============================] - 0s 2ms/step - loss: -4480.4463 - accuracy: 0.1072\n",
            "Epoch 96/100\n",
            "45/45 [==============================] - 0s 2ms/step - loss: -4527.9131 - accuracy: 0.1072\n",
            "Epoch 97/100\n",
            "45/45 [==============================] - 0s 2ms/step - loss: -4575.7100 - accuracy: 0.1072\n",
            "Epoch 98/100\n",
            "45/45 [==============================] - 0s 2ms/step - loss: -4623.1616 - accuracy: 0.1072\n",
            "Epoch 99/100\n",
            "45/45 [==============================] - 0s 2ms/step - loss: -4670.9521 - accuracy: 0.1072\n",
            "Epoch 100/100\n",
            "45/45 [==============================] - 0s 2ms/step - loss: -4718.6162 - accuracy: 0.1072\n",
            "12/12 [==============================] - 0s 1ms/step\n",
            "Exactitud: 0.07777777777777778\n"
          ]
        }
      ],
      "source": [
        "import numpy as np\n",
        "import tensorflow as tf\n",
        "from sklearn import datasets\n",
        "from sklearn.model_selection import train_test_split\n",
        "from sklearn.metrics import accuracy_score\n",
        "\n",
        "# Cargar el conjunto de datos de Dígitos\n",
        "digits = datasets.load_digits()\n",
        "X = digits.data\n",
        "Y = digits.target\n",
        "\n",
        "# Dividir los datos en conjuntos de entrenamiento y prueba\n",
        "X_train, X_test, Y_train, Y_test = train_test_split(X, Y, test_size=0.2, random_state=42)\n",
        "\n",
        "# Crear un perceptrón simple en TensorFlow\n",
        "model = tf.keras.Sequential()\n",
        "model.add(tf.keras.layers.Input(shape=(X_train.shape[1],)))\n",
        "model.add(tf.keras.layers.Dense(1, activation='sigmoid'))\n",
        "\n",
        "# Compilar el modelo\n",
        "model.compile(optimizer='adam', loss='binary_crossentropy', metrics=['accuracy'])\n",
        "\n",
        "# Entrenar el modelo con backpropagation\n",
        "model.fit(X_train, Y_train, epochs=100, verbose=1)\n",
        "\n",
        "# Realizar predicciones en el conjunto de prueba\n",
        "Y_pred = (model.predict(X_test) > 0.5).astype(int)\n",
        "\n",
        "# Calcular la precisión del modelo\n",
        "exactitud = accuracy_score(Y_test, Y_pred)\n",
        "print(\"Exactitud:\", exactitud)\n"
      ]
    },
    {
      "cell_type": "markdown",
      "metadata": {
        "id": "kOsdLkvDdscI"
      },
      "source": [
        "### **Etapa3**\n",
        "Entrenamos al modelo creamos un perceptron simple y tratamos de introducir una matriz 8x8 de un digito para saber si el modelo lo podria predecir"
      ]
    },
    {
      "cell_type": "code",
      "execution_count": 28,
      "metadata": {
        "id": "tUqKBWoGea54"
      },
      "outputs": [
        {
          "name": "stdout",
          "output_type": "stream",
          "text": [
            "Epoch 1/50\n",
            "45/45 [==============================] - 0s 2ms/step - loss: -30.5152 - accuracy: 0.1044\n",
            "Epoch 2/50\n",
            "45/45 [==============================] - 0s 2ms/step - loss: -77.3382 - accuracy: 0.1072\n",
            "Epoch 3/50\n",
            "45/45 [==============================] - 0s 2ms/step - loss: -124.1985 - accuracy: 0.1072\n",
            "Epoch 4/50\n",
            "45/45 [==============================] - 0s 2ms/step - loss: -171.2211 - accuracy: 0.1072\n",
            "Epoch 5/50\n",
            "45/45 [==============================] - 0s 2ms/step - loss: -218.5218 - accuracy: 0.1072\n",
            "Epoch 6/50\n",
            "45/45 [==============================] - 0s 2ms/step - loss: -265.8375 - accuracy: 0.1072\n",
            "Epoch 7/50\n",
            "45/45 [==============================] - 0s 2ms/step - loss: -313.1956 - accuracy: 0.1072\n",
            "Epoch 8/50\n",
            "45/45 [==============================] - 0s 2ms/step - loss: -360.7420 - accuracy: 0.1072\n",
            "Epoch 9/50\n",
            "45/45 [==============================] - 0s 2ms/step - loss: -408.0323 - accuracy: 0.1072\n",
            "Epoch 10/50\n",
            "45/45 [==============================] - 0s 2ms/step - loss: -455.6829 - accuracy: 0.1072\n",
            "Epoch 11/50\n",
            "45/45 [==============================] - 0s 2ms/step - loss: -503.1305 - accuracy: 0.1072\n",
            "Epoch 12/50\n",
            "45/45 [==============================] - 0s 2ms/step - loss: -550.6682 - accuracy: 0.1072\n",
            "Epoch 13/50\n",
            "45/45 [==============================] - 0s 2ms/step - loss: -598.2616 - accuracy: 0.1072\n",
            "Epoch 14/50\n",
            "45/45 [==============================] - 0s 2ms/step - loss: -645.7422 - accuracy: 0.1072\n",
            "Epoch 15/50\n",
            "45/45 [==============================] - 0s 2ms/step - loss: -693.3174 - accuracy: 0.1072\n",
            "Epoch 16/50\n",
            "45/45 [==============================] - 0s 2ms/step - loss: -740.8177 - accuracy: 0.1072\n",
            "Epoch 17/50\n",
            "45/45 [==============================] - 0s 2ms/step - loss: -788.3582 - accuracy: 0.1072\n",
            "Epoch 18/50\n",
            "45/45 [==============================] - 0s 2ms/step - loss: -836.0029 - accuracy: 0.1072\n",
            "Epoch 19/50\n",
            "45/45 [==============================] - 0s 2ms/step - loss: -883.5479 - accuracy: 0.1072\n",
            "Epoch 20/50\n",
            "45/45 [==============================] - 0s 2ms/step - loss: -931.0600 - accuracy: 0.1072\n",
            "Epoch 21/50\n",
            "45/45 [==============================] - 0s 2ms/step - loss: -978.8142 - accuracy: 0.1072\n",
            "Epoch 22/50\n",
            "45/45 [==============================] - 0s 2ms/step - loss: -1026.2865 - accuracy: 0.1072\n",
            "Epoch 23/50\n",
            "45/45 [==============================] - 0s 2ms/step - loss: -1073.8612 - accuracy: 0.1072\n",
            "Epoch 24/50\n",
            "45/45 [==============================] - 0s 2ms/step - loss: -1121.4799 - accuracy: 0.1072\n",
            "Epoch 25/50\n",
            "45/45 [==============================] - 0s 2ms/step - loss: -1169.1337 - accuracy: 0.1072\n",
            "Epoch 26/50\n",
            "45/45 [==============================] - 0s 2ms/step - loss: -1216.5958 - accuracy: 0.1072\n",
            "Epoch 27/50\n",
            "45/45 [==============================] - 0s 2ms/step - loss: -1264.2937 - accuracy: 0.1072\n",
            "Epoch 28/50\n",
            "45/45 [==============================] - 0s 2ms/step - loss: -1311.9332 - accuracy: 0.1072\n",
            "Epoch 29/50\n",
            "45/45 [==============================] - 0s 2ms/step - loss: -1359.3645 - accuracy: 0.1072\n",
            "Epoch 30/50\n",
            "45/45 [==============================] - 0s 2ms/step - loss: -1407.1709 - accuracy: 0.1072\n",
            "Epoch 31/50\n",
            "45/45 [==============================] - 0s 2ms/step - loss: -1454.6067 - accuracy: 0.1072\n",
            "Epoch 32/50\n",
            "45/45 [==============================] - 0s 2ms/step - loss: -1502.1285 - accuracy: 0.1072\n",
            "Epoch 33/50\n",
            "45/45 [==============================] - 0s 2ms/step - loss: -1549.9857 - accuracy: 0.1072\n",
            "Epoch 34/50\n",
            "45/45 [==============================] - 0s 1ms/step - loss: -1597.3939 - accuracy: 0.1072\n",
            "Epoch 35/50\n",
            "45/45 [==============================] - 0s 3ms/step - loss: -1644.9614 - accuracy: 0.1072\n",
            "Epoch 36/50\n",
            "45/45 [==============================] - 0s 2ms/step - loss: -1692.7826 - accuracy: 0.1072\n",
            "Epoch 37/50\n",
            "45/45 [==============================] - 0s 1ms/step - loss: -1740.1702 - accuracy: 0.1072\n",
            "Epoch 38/50\n",
            "45/45 [==============================] - 0s 2ms/step - loss: -1787.9377 - accuracy: 0.1072\n",
            "Epoch 39/50\n",
            "45/45 [==============================] - 0s 2ms/step - loss: -1835.3818 - accuracy: 0.1072\n",
            "Epoch 40/50\n",
            "45/45 [==============================] - 0s 2ms/step - loss: -1883.0314 - accuracy: 0.1072\n",
            "Epoch 41/50\n",
            "45/45 [==============================] - 0s 2ms/step - loss: -1930.7738 - accuracy: 0.1072\n",
            "Epoch 42/50\n",
            "45/45 [==============================] - 0s 2ms/step - loss: -1978.2877 - accuracy: 0.1072\n",
            "Epoch 43/50\n",
            "45/45 [==============================] - 0s 2ms/step - loss: -2025.9338 - accuracy: 0.1072\n",
            "Epoch 44/50\n",
            "45/45 [==============================] - 0s 3ms/step - loss: -2073.4536 - accuracy: 0.1072\n",
            "Epoch 45/50\n",
            "45/45 [==============================] - 0s 2ms/step - loss: -2121.2283 - accuracy: 0.1072\n",
            "Epoch 46/50\n",
            "45/45 [==============================] - 0s 2ms/step - loss: -2168.7173 - accuracy: 0.1072\n",
            "Epoch 47/50\n",
            "45/45 [==============================] - 0s 2ms/step - loss: -2216.3767 - accuracy: 0.1072\n",
            "Epoch 48/50\n",
            "45/45 [==============================] - 0s 2ms/step - loss: -2264.0403 - accuracy: 0.1072\n",
            "Epoch 49/50\n",
            "45/45 [==============================] - 0s 2ms/step - loss: -2311.5889 - accuracy: 0.1072\n",
            "Epoch 50/50\n",
            "45/45 [==============================] - 0s 2ms/step - loss: -2359.3008 - accuracy: 0.1072\n",
            "1/1 [==============================] - 0s 53ms/step\n"
          ]
        },
        {
          "data": {
            "image/png": "[encoded data removed]",
            "text/plain": [
              "<Figure size 640x480 with 1 Axes>"
            ]
          },
          "metadata": {},
          "output_type": "display_data"
        }
      ],
      "source": [
        "\n",
        "import numpy as np\n",
        "import tensorflow as tf\n",
        "from matplotlib import pyplot as plt\n",
        "\n",
        "# Cargar el conjunto de datos de dígitos\n",
        "from sklearn import datasets\n",
        "digits = datasets.load_digits()\n",
        "\n",
        "X = digits.data\n",
        "Y = digits.target\n",
        "\n",
        "# Dividir los datos en conjuntos de entrenamiento y prueba\n",
        "X_train, X_test, Y_train, Y_test = train_test_split(X, Y, test_size=0.2, random_state=42)\n",
        "\n",
        "# Crear un perceptrón simple en TensorFlow\n",
        "model = tf.keras.Sequential()\n",
        "model.add(tf.keras.layers.Input(shape=(X_train.shape[1],)))\n",
        "model.add(tf.keras.layers.Dense(1, activation='sigmoid'))\n",
        "\n",
        "\n",
        "# Compilar el modelo\n",
        "model.compile(optimizer='adam', loss='binary_crossentropy', metrics=['accuracy'])\n",
        "\n",
        "# Entrenar el modelo con backpropagation\n",
        "model.fit(X_train, Y_train, epochs=50, verbose=1)\n",
        "\n",
        "\n",
        "# Definir una matriz de 8x8 en el formato necesario (valores de 0 a 16) para el número 9\n",
        "number_9 = [\n",
        "    [0, 0, 0, 16, 16, 16, 0, 0],\n",
        "    [0, 0, 16, 0, 0, 16, 0, 0],\n",
        "    [0, 16, 0, 0, 0, 16, 0, 0], #numero 9\n",
        "    [0, 0, 16, 16, 16, 16, 0, 0],\n",
        "    [0, 0, 0, 0, 0, 16, 0, 0],\n",
        "    [0, 0, 0, 0, 0, 16, 0, 0],\n",
        "    [0, 0, 0, 0, 0, 16, 0, 0],\n",
        "    [0, 0, 0, 16, 16, 0, 0, 0]\n",
        "]\n",
        "\n",
        "# Redimensionar la entrada de la matriz para que tenga 64 características\n",
        "user_input = np.array(number_9).flatten()\n",
        "\n",
        "# Realizar la predicción\n",
        "prediction = model.predict(np.array([user_input]))\n",
        "\n",
        "# Mostrar la imagen ingresada y la predicción\n",
        "plt.imshow(np.array(user_input).reshape(8, 8), cmap=plt.cm.gray_r, interpolation='nearest')\n",
        "\n",
        "if prediction > 0.5:\n",
        "    plt.title(\"Predicción: 1\")\n",
        "else:\n",
        "    plt.title(\"Predicción: No es 1\")\n",
        "\n",
        "plt.show()\n"
      ]
    },
    {
      "cell_type": "markdown",
      "metadata": {
        "id": "e9AI6vzEeYfW"
      },
      "source": [
        "### **Etapa 4**\n",
        "Listo hasta este paso ya sabemos que podemos llegar a predecir de un valor en matriz un digito estamos a nada de completar el tema de redesneuronales\n",
        "\n",
        "Ahora que pasa si un solo perceptron no es suficiente porque tenemos mas entradas por ejemplo queremos que el algoritmo llegue a predecir atravez de cualquier digito que se ingrese o se dibuje el numero plasmado"
      ]
    },
    {
      "cell_type": "markdown",
      "metadata": {
        "id": "OEnwdNzihW6I"
      },
      "source": [
        "**Paso 1: Importación de bibliotecas**"
      ]
    },
    {
      "cell_type": "code",
      "execution_count": 29,
      "metadata": {
        "id": "q-aNyth7hXGC"
      },
      "outputs": [],
      "source": [
        "import numpy as np\n",
        "import tensorflow as tf\n",
        "from matplotlib import pyplot as plt\n",
        "from sklearn import datasets\n",
        "from sklearn.model_selection import train_test_split"
      ]
    },
    {
      "cell_type": "markdown",
      "metadata": {
        "id": "HJMCuyAbhtET"
      },
      "source": [
        "En este paso, importamos las bibliotecas necesarias para el funcionamiento del código. **numpy** se utiliza para operaciones numéricas, **tensorflow** para construir y entrenar redes neuronales, **matplotlib** para visualización y **datasets** y **train_test_split** de **scikit-learn** para cargar el conjunto de datos de dígitos y dividir los datos en conjuntos de entrenamiento y prueba."
      ]
    },
    {
      "cell_type": "markdown",
      "metadata": {
        "id": "QQLicFZOh_Yf"
      },
      "source": [
        "**Paso 2: Cargar el conjunto de datos**"
      ]
    },
    {
      "cell_type": "code",
      "execution_count": 30,
      "metadata": {
        "id": "AuaPL5tUh_rP"
      },
      "outputs": [],
      "source": [
        "digits = datasets.load_digits()"
      ]
    },
    {
      "cell_type": "markdown",
      "metadata": {
        "id": "Lp1N8eGNiF3o"
      },
      "source": [
        "En este paso, cargamos el conjunto de datos de dígitos usando la función **load_digits()** de **scikit-learn**. Esto nos proporciona un conjunto de imágenes de dígitos escritos a mano y sus etiquetas asociadas."
      ]
    },
    {
      "cell_type": "markdown",
      "metadata": {
        "id": "4WeWg4-9iMIm"
      },
      "source": [
        "**Paso 3: División de los datos en conjuntos de entrenamiento y prueba**"
      ]
    },
    {
      "cell_type": "code",
      "execution_count": 31,
      "metadata": {
        "id": "6m_crKesiLcv"
      },
      "outputs": [],
      "source": [
        "X = digits.data\n",
        "Y = digits.target\n",
        "X_train, X_test, Y_train, Y_test = train_test_split(X, Y, test_size=0.2, random_state=42)\n"
      ]
    },
    {
      "cell_type": "markdown",
      "metadata": {
        "id": "K1pPRQShiXIL"
      },
      "source": [
        "Dividimos los datos en características **(X)** y etiquetas **(Y)**. Luego, utilizando **train_test_split**, dividimos estos datos en conjuntos de entrenamiento **(X_train, Y_train)** y prueba **(X_test, Y_test)** con una proporción del 80% para entrenamiento y 20% para prueba."
      ]
    },
    {
      "cell_type": "markdown",
      "metadata": {
        "id": "Kn0BVozsilJc"
      },
      "source": [
        "**Paso 4: Creación del modelo de red neuronal**"
      ]
    },
    {
      "cell_type": "code",
      "execution_count": 32,
      "metadata": {
        "id": "3CG2e28tiWYM"
      },
      "outputs": [],
      "source": [
        "model = tf.keras.Sequential([\n",
        "    tf.keras.layers.Input(shape=(64,)),\n",
        "    tf.keras.layers.Dense(128, activation='relu'),\n",
        "    tf.keras.layers.Dense(64, activation='relu'),\n",
        "    tf.keras.layers.Dense(10, activation='softmax')\n",
        "])"
      ]
    },
    {
      "cell_type": "markdown",
      "metadata": {
        "id": "tKd5zzK2iojN"
      },
      "source": [
        "En este paso, creamos un modelo de red neuronal utilizando la API Keras de TensorFlow. El modelo consta de una capa de entrada con 64 neuronas (una para cada característica de las imágenes de 8x8 píxeles), dos capas ocultas con activación ReLU y una capa de salida con 10 neuronas y activación Softmax para clasificar los dígitos."
      ]
    },
    {
      "cell_type": "markdown",
      "metadata": {
        "id": "TLiO-96gk1GB"
      },
      "source": [
        "**ReLU (Rectified Linear Unit):**\n",
        "\n",
        "**ReLU** es una función de activación no lineal que se utiliza en las capas ocultas de las redes neuronales.\n",
        "Matemáticamente, la función ReLU se define como **f(x) = max(0, x)**, lo que significa que si el valor de entrada x es positivo, la función devuelve el mismo valor (x), pero si es negativo, devuelve cero.\n",
        "ReLU es popular debido a su simplicidad y eficacia. Ayuda a superar problemas como la desaparición del gradiente y acelera el proceso de entrenamiento.\n",
        "En términos intuitivos, ReLU activa una neurona solo si la entrada es suficientemente positiva, lo que permite aprender características relevantes en los datos."
      ]
    },
    {
      "cell_type": "markdown",
      "metadata": {
        "id": "QET9TLdLlEaZ"
      },
      "source": [
        "**Softmax:**\n",
        "\n",
        "**Softmax** es una función de activación utilizada en la capa de salida de una red neuronal en problemas de clasificación multiclase.\n",
        "Toma un vector de números reales como entrada y devuelve un vector de probabilidades. Cada elemento en el vector de salida representa la probabilidad de que la entrada pertenezca a una clase específica.\n",
        "La función Softmax realiza una operación de normalización exponencial en las entradas, lo que significa que aumenta la diferencia entre los valores más altos y disminuye la diferencia entre los valores más bajos. Esto es útil para obtener probabilidades más distintas.\n",
        "La salida de Softmax es útil para tomar decisiones basadas en la probabilidad. La clase con la probabilidad más alta se considera la predicción de la red para un problema de clasificación."
      ]
    },
    {
      "cell_type": "markdown",
      "metadata": {
        "id": "4l0XQH1Mi8gz"
      },
      "source": [
        "**Paso 5: Compilación del modelo**"
      ]
    },
    {
      "cell_type": "code",
      "execution_count": 33,
      "metadata": {
        "id": "yh0oC1kdi_CG"
      },
      "outputs": [],
      "source": [
        "model.compile(optimizer='adam', loss='sparse_categorical_crossentropy', metrics=['accuracy'])\n"
      ]
    },
    {
      "cell_type": "markdown",
      "metadata": {
        "id": "e-ovs1sKjCaX"
      },
      "source": [
        "Compilamos el modelo especificando el optimizador (adam), la función de pérdida (sparse_categorical_crossentropy) adecuada para problemas de clasificación y las métricas que deseamos rastrear (en este caso, la precisión)."
      ]
    },
    {
      "cell_type": "markdown",
      "metadata": {
        "id": "SVjWyOZbmaHF"
      },
      "source": [
        "**optimizer='adam':**\n",
        "\n",
        "El parámetro optimizer se refiere al algoritmo de optimización que se utilizará durante el entrenamiento de la red neuronal. 'adam' es uno de los optimizadores más populares y eficientes en la actualidad. Adam es una variante del descenso de gradiente estocástico (SGD) que combina las ventajas de otros optimizadores, como el descenso de gradiente con momento y RMSprop.\n",
        "El optimizador es responsable de ajustar los pesos y sesgos de la red neuronal durante el proceso de entrenamiento para minimizar la función de pérdida.\n"
      ]
    },
    {
      "cell_type": "markdown",
      "metadata": {
        "id": "ghK8Fwu-mghE"
      },
      "source": [
        "**loss='sparse_categorical_crossentropy':**\n",
        "\n",
        "El parámetro loss se refiere a la función de pérdida que se utiliza para medir la discrepancia entre las predicciones del modelo y las etiquetas reales en el conjunto de entrenamiento. 'sparse_categorical_crossentropy' es una función de pérdida comúnmente utilizada en problemas de clasificación cuando las etiquetas son valores enteros (como en clasificación de dígitos, donde los dígitos son números enteros del 0 al 9).\n",
        "La función sparse_categorical_crossentropy calcula la entropía cruzada entre las distribuciones de probabilidad predichas por el modelo y las distribuciones de probabilidad one-hot codificadas de las etiquetas reales.\n"
      ]
    },
    {
      "cell_type": "markdown",
      "metadata": {
        "id": "VddiMPBkmkYd"
      },
      "source": [
        "**metrics=['accuracy']:**\n",
        "\n",
        "El parámetro metrics se utiliza para especificar las métricas que se rastrearán durante el entrenamiento del modelo para evaluar su rendimiento. En este caso, hemos seleccionado 'accuracy', que es una métrica común en problemas de clasificación. Mide la proporción de ejemplos clasificados correctamente en el conjunto de entrenamiento.\n",
        "Durante el entrenamiento, el modelo calculará y mostrará la precisión en cada época para que puedas evaluar cuán bien se está desempeñando en el conjunto de entrenamiento.\n"
      ]
    },
    {
      "cell_type": "markdown",
      "metadata": {
        "id": "m2iWsWRvmnn0"
      },
      "source": [
        "**En resumen**, la función model.compile se utiliza para configurar la etapa de entrenamiento de la red neuronal. Establece el optimizador que se utilizará para ajustar los parámetros del modelo, la función de pérdida que se minimizará durante el entrenamiento y las métricas que se rastrearán para evaluar el rendimiento del modelo."
      ]
    },
    {
      "cell_type": "markdown",
      "metadata": {
        "id": "wqGdaQY-jCnr"
      },
      "source": [
        "**Paso 6: Entrenamiento del modelo**"
      ]
    },
    {
      "cell_type": "code",
      "execution_count": 34,
      "metadata": {
        "id": "gFOjNvQPjTxX"
      },
      "outputs": [
        {
          "name": "stdout",
          "output_type": "stream",
          "text": [
            "Epoch 1/10\n"
          ]
        },
        {
          "name": "stdout",
          "output_type": "stream",
          "text": [
            "36/36 [==============================] - 1s 7ms/step - loss: 2.4764 - accuracy: 0.4317 - val_loss: 0.7627 - val_accuracy: 0.7569\n",
            "Epoch 2/10\n",
            "36/36 [==============================] - 0s 3ms/step - loss: 0.3910 - accuracy: 0.8860 - val_loss: 0.3877 - val_accuracy: 0.8715\n",
            "Epoch 3/10\n",
            "36/36 [==============================] - 0s 3ms/step - loss: 0.1801 - accuracy: 0.9513 - val_loss: 0.2555 - val_accuracy: 0.9062\n",
            "Epoch 4/10\n",
            "36/36 [==============================] - 0s 4ms/step - loss: 0.1167 - accuracy: 0.9748 - val_loss: 0.2198 - val_accuracy: 0.9201\n",
            "Epoch 5/10\n",
            "36/36 [==============================] - 0s 3ms/step - loss: 0.0761 - accuracy: 0.9887 - val_loss: 0.1637 - val_accuracy: 0.9479\n",
            "Epoch 6/10\n",
            "36/36 [==============================] - 0s 4ms/step - loss: 0.0506 - accuracy: 0.9939 - val_loss: 0.1603 - val_accuracy: 0.9410\n",
            "Epoch 7/10\n",
            "36/36 [==============================] - 0s 3ms/step - loss: 0.0373 - accuracy: 0.9956 - val_loss: 0.1411 - val_accuracy: 0.9514\n",
            "Epoch 8/10\n",
            "36/36 [==============================] - 0s 3ms/step - loss: 0.0299 - accuracy: 0.9965 - val_loss: 0.1408 - val_accuracy: 0.9479\n",
            "Epoch 9/10\n",
            "36/36 [==============================] - 0s 3ms/step - loss: 0.0218 - accuracy: 0.9983 - val_loss: 0.1297 - val_accuracy: 0.9549\n",
            "Epoch 10/10\n",
            "36/36 [==============================] - 0s 3ms/step - loss: 0.0165 - accuracy: 0.9991 - val_loss: 0.1263 - val_accuracy: 0.9514\n"
          ]
        },
        {
          "data": {
            "text/plain": [
              "<keras.src.callbacks.History at 0x7fb24e9a80a0>"
            ]
          },
          "execution_count": 34,
          "metadata": {},
          "output_type": "execute_result"
        }
      ],
      "source": [
        "model.fit(X_train, Y_train, epochs=10, batch_size=32, validation_split=0.2)\n"
      ]
    },
    {
      "cell_type": "markdown",
      "metadata": {
        "id": "DD3yNQU4jVcN"
      },
      "source": [
        "Entrenamos el modelo con los datos de entrenamiento (X_train y Y_train) durante 10 épocas y con un tamaño de lote de 32. Además, especificamos una fracción de validación del 20% para monitorear el rendimiento del modelo durante el entrenamiento."
      ]
    },
    {
      "cell_type": "markdown",
      "metadata": {
        "id": "udBGRPV0mvAS"
      },
      "source": [
        "**X_train y Y_train:**\n",
        "\n",
        "**X_train** se refiere al conjunto de datos de características (por ejemplo, imágenes de dígitos) que se utilizarán como datos de entrenamiento.\n",
        "**Y_train** se refiere al conjunto de etiquetas (por ejemplo, los números reales que representan los dígitos) que corresponden a las características en X_train.\n"
      ]
    },
    {
      "cell_type": "markdown",
      "metadata": {
        "id": "xtuX9PCNnMYT"
      },
      "source": [
        "**epochs=10:**\n",
        "\n",
        "El parámetro **epochs** especifica el número de épocas o iteraciones completas a través del conjunto de entrenamiento. Cada época implica que el modelo verá todos los ejemplos de entrenamiento una vez. En este caso, el modelo se entrenará durante 10 épocas.\n"
      ]
    },
    {
      "cell_type": "markdown",
      "metadata": {
        "id": "QgC2bILKnRbv"
      },
      "source": [
        "**batch_size=32:**\n",
        "\n",
        "El parámetro **batch_size** determina el tamaño del lote o subconjunto de ejemplos de entrenamiento que se utilizará en cada paso de optimización. En lugar de ajustar los pesos después de cada ejemplo, el modelo ajusta los pesos después de un conjunto de ejemplos, lo que acelera el proceso de entrenamiento y a menudo mejora la convergencia.\n",
        "En este caso, se utilizan lotes de 32 ejemplos a la vez para ajustar los pesos del modelo.\n"
      ]
    },
    {
      "cell_type": "markdown",
      "metadata": {
        "id": "nOtGvaSHnV6y"
      },
      "source": [
        "**validation_split=0.2:**\n",
        "\n",
        "El parámetro **validation_split** se utiliza para especificar la fracción de datos de entrenamiento que se utilizará como conjunto de validación durante el entrenamiento. El conjunto de validación se utiliza para monitorear el rendimiento del modelo y evitar el sobreajuste.\n",
        "En este caso, el 20% de los datos de entrenamiento se reservan como conjunto de validación. Esto significa que durante el entrenamiento, el modelo verá el 80% de los datos para ajustar los pesos y el 20% se utilizará para evaluar el rendimiento en cada época."
      ]
    },
    {
      "cell_type": "markdown",
      "metadata": {
        "id": "Yh9GBJNEjVfw"
      },
      "source": [
        "**Paso 7: Permitir al usuario ingresar una matriz**"
      ]
    },
    {
      "cell_type": "code",
      "execution_count": 35,
      "metadata": {
        "id": "-Qeihq9JjejN"
      },
      "outputs": [],
      "source": [
        "user_input = [\n",
        "    [0, 0, 0, 16, 16, 16, 0, 0],\n",
        "    [0, 0, 16, 0, 0, 16, 0, 0],\n",
        "    [0, 16, 0, 0, 0, 16, 0, 0],\n",
        "    [0, 0, 0, 0, 16, 16, 0, 0],\n",
        "    [0, 0, 0, 0, 0, 16, 0, 0],\n",
        "    [0, 0, 0, 0, 0, 16, 0, 0],\n",
        "    [0, 0, 0, 0, 0, 16, 0, 0],\n",
        "    [0, 0, 0, 16, 16, 0, 0, 0]\n",
        "]\n",
        "#numero9"
      ]
    },
    {
      "cell_type": "markdown",
      "metadata": {
        "id": "W8H6_BJqjeLN"
      },
      "source": [
        "En este paso, definimos una matriz que el usuario podría ingresar para que el modelo realice una predicción. Esta matriz representa un dígito, en este caso, el número \"9\"."
      ]
    },
    {
      "cell_type": "markdown",
      "metadata": {
        "id": "EfkZGZsAjeVX"
      },
      "source": [
        "**Paso 8: Redimensionar la entrada del usuario**"
      ]
    },
    {
      "cell_type": "code",
      "execution_count": 36,
      "metadata": {
        "id": "y0DvuxLxjply"
      },
      "outputs": [],
      "source": [
        "user_input = np.array(user_input).flatten()\n"
      ]
    },
    {
      "cell_type": "markdown",
      "metadata": {
        "id": "iCVL95C4jrHW"
      },
      "source": [
        "La matriz ingresada por el usuario se redimensiona para tener 64 características, ya que el modelo espera una entrada de 64 características."
      ]
    },
    {
      "cell_type": "markdown",
      "metadata": {
        "id": "ksXm1F8Hn049"
      },
      "source": [
        "**.flatten():** Después de haber convertido la matriz en un array de NumPy, se llama al método flatten(). Este método se utiliza para transformar el array en un vector unidimensional. Cada elemento de la matriz bidimensional se coloca en una secuencia lineal, de manera que todos los elementos se almacenan uno tras otro en un solo vector."
      ]
    },
    {
      "cell_type": "markdown",
      "metadata": {
        "id": "ebjr2bHWn1BE"
      },
      "source": []
    },
    {
      "cell_type": "markdown",
      "metadata": {
        "id": "7e7AnhgAjrOM"
      },
      "source": [
        "**Paso 9: Realización de la predicción**"
      ]
    },
    {
      "cell_type": "code",
      "execution_count": 37,
      "metadata": {
        "id": "LufPsrY4j1K5"
      },
      "outputs": [
        {
          "name": "stdout",
          "output_type": "stream",
          "text": [
            "1/1 [==============================] - 0s 65ms/step\n"
          ]
        }
      ],
      "source": [
        "predicted_digit = model.predict(np.array([user_input]))\n"
      ]
    },
    {
      "cell_type": "markdown",
      "metadata": {
        "id": "QRkbCPhVj287"
      },
      "source": [
        "El modelo realiza una predicción en la matriz ingresada por el usuario utilizando la función **model.predict()**."
      ]
    },
    {
      "cell_type": "markdown",
      "metadata": {
        "id": "NDW0-L2Qj7TF"
      },
      "source": [
        "**Paso 10: Obtención del dígito predicho**"
      ]
    },
    {
      "cell_type": "code",
      "execution_count": 38,
      "metadata": {
        "id": "aY-rKU8rj7e0"
      },
      "outputs": [],
      "source": [
        "predicted_digit = np.argmax(predicted_digit)\n"
      ]
    },
    {
      "cell_type": "markdown",
      "metadata": {
        "id": "1TlHkFv1j_jk"
      },
      "source": [
        "Obtenemos el dígito predicho tomando el índice de la neurona con la probabilidad más alta como la predicción final."
      ]
    },
    {
      "cell_type": "markdown",
      "metadata": {
        "id": "EfzAGrR6j_sT"
      },
      "source": [
        "**Paso 11: Mostrar la imagen y la predicción**"
      ]
    },
    {
      "cell_type": "code",
      "execution_count": 39,
      "metadata": {
        "id": "GOUfu_FHkGHE"
      },
      "outputs": [
        {
          "data": {
            "image/png": "[encoded data removed]",
            "text/plain": [
              "<Figure size 640x480 with 1 Axes>"
            ]
          },
          "metadata": {},
          "output_type": "display_data"
        }
      ],
      "source": [
        "plt.imshow(user_input.reshape(8, 8), cmap=plt.cm.gray_r, interpolation='nearest')\n",
        "plt.title(f\"Predicción: {predicted_digit}\")\n",
        "plt.show()"
      ]
    },
    {
      "cell_type": "markdown",
      "metadata": {
        "id": "IyBNAfEakJBN"
      },
      "source": [
        "**Ejemplo Completo**"
      ]
    },
    {
      "cell_type": "code",
      "execution_count": 40,
      "metadata": {
        "id": "lQCnmXh0hGXA"
      },
      "outputs": [
        {
          "name": "stdout",
          "output_type": "stream",
          "text": [
            "Epoch 1/10\n",
            "36/36 [==============================] - 1s 8ms/step - loss: 2.5062 - accuracy: 0.4891 - val_loss: 0.5571 - val_accuracy: 0.8264\n",
            "Epoch 2/10\n",
            "36/36 [==============================] - 0s 4ms/step - loss: 0.3654 - accuracy: 0.8964 - val_loss: 0.3012 - val_accuracy: 0.8854\n",
            "Epoch 3/10\n",
            "36/36 [==============================] - 0s 4ms/step - loss: 0.1840 - accuracy: 0.9513 - val_loss: 0.2119 - val_accuracy: 0.9340\n",
            "Epoch 4/10\n",
            "36/36 [==============================] - 0s 4ms/step - loss: 0.1121 - accuracy: 0.9713 - val_loss: 0.1909 - val_accuracy: 0.9410\n",
            "Epoch 5/10\n",
            "36/36 [==============================] - 0s 4ms/step - loss: 0.0777 - accuracy: 0.9869 - val_loss: 0.1842 - val_accuracy: 0.9444\n",
            "Epoch 6/10\n",
            "36/36 [==============================] - 0s 3ms/step - loss: 0.0560 - accuracy: 0.9922 - val_loss: 0.1493 - val_accuracy: 0.9444\n",
            "Epoch 7/10\n",
            "36/36 [==============================] - 0s 4ms/step - loss: 0.0392 - accuracy: 0.9956 - val_loss: 0.1434 - val_accuracy: 0.9375\n",
            "Epoch 8/10\n",
            "36/36 [==============================] - 0s 4ms/step - loss: 0.0336 - accuracy: 0.9956 - val_loss: 0.1393 - val_accuracy: 0.9514\n",
            "Epoch 9/10\n",
            "36/36 [==============================] - 0s 3ms/step - loss: 0.0251 - accuracy: 0.9991 - val_loss: 0.1432 - val_accuracy: 0.9514\n",
            "Epoch 10/10\n",
            "36/36 [==============================] - 0s 3ms/step - loss: 0.0180 - accuracy: 0.9991 - val_loss: 0.1301 - val_accuracy: 0.9479\n",
            "1/1 [==============================] - 0s 46ms/step\n"
          ]
        },
        {
          "data": {
            "image/png": "[encoded data removed]",
            "text/plain": [
              "<Figure size 640x480 with 1 Axes>"
            ]
          },
          "metadata": {},
          "output_type": "display_data"
        }
      ],
      "source": [
        "import numpy as np\n",
        "import tensorflow as tf\n",
        "from matplotlib import pyplot as plt\n",
        "from sklearn import datasets\n",
        "from sklearn.model_selection import train_test_split\n",
        "\n",
        "# Cargar el conjunto de datos de dígitos de Scikit-Learn\n",
        "digits = datasets.load_digits()\n",
        "\n",
        "# Obtener las características (imágenes de dígitos) y las etiquetas (números reales que representan)\n",
        "X = digits.data\n",
        "Y = digits.target\n",
        "\n",
        "# Dividir los datos en conjuntos de entrenamiento y prueba\n",
        "X_train, X_test, Y_train, Y_test = train_test_split(X, Y, test_size=0.2, random_state=42)\n",
        "\n",
        "# Crear y entrenar un modelo de red neuronal en TensorFlow\n",
        "model = tf.keras.Sequential([\n",
        "    tf.keras.layers.Input(shape=(64,)),  # Entrada de 64 características\n",
        "    tf.keras.layers.Dense(128, activation='relu'),  # Capa oculta con 128 unidades y función de activación ReLU\n",
        "    tf.keras.layers.Dense(64, activation='relu'),  # Capa oculta con 64 unidades y función de activación ReLU\n",
        "    tf.keras.layers.Dense(10, activation='softmax')  # Capa de salida con 10 unidades y función de activación Softmax\n",
        "])\n",
        "\n",
        "# Compilar el modelo\n",
        "model.compile(optimizer='adam', loss='sparse_categorical_crossentropy', metrics=['accuracy'])\n",
        "\n",
        "# Entrenar el modelo con los datos de entrenamiento\n",
        "model.fit(X_train, Y_train, epochs=10, batch_size=32, validation_split=0.2)\n",
        "\n",
        "# Permitir al usuario ingresar una matriz\n",
        "user_input = [\n",
        "    [0, 0, 0, 16, 16, 16, 0, 0],\n",
        "    [0, 6, 16, 0, 0, 16, 0, 0],\n",
        "    [0, 16, 0, 0, 0, 16, 0, 0],\n",
        "    [0, 0, 16, 16, 16, 16, 0, 0],\n",
        "    [0, 0, 1, 0, 0, 16, 0, 0],\n",
        "    [0, 0, 0, 0, 0, 16, 0, 0],\n",
        "    [0, 0, 8, 0, 0, 16, 0, 0],\n",
        "    [0, 0, 0, 16, 16, 0, 0, 0]\n",
        "]\n",
        "\n",
        "# Redimensionar la entrada del usuario para que tenga 64 características\n",
        "user_input = np.array(user_input).flatten()\n",
        "\n",
        "# Realizar la predicción en la matriz ingresada\n",
        "predicted_digit = model.predict(np.array([user_input]))\n",
        "\n",
        "# Obtener el dígito predicho\n",
        "predicted_digit = np.argmax(predicted_digit)\n",
        "\n",
        "# Mostrar la imagen ingresada y la predicción\n",
        "plt.imshow(user_input.reshape(8, 8), cmap=plt.cm.gray_r, interpolation='nearest')\n",
        "plt.title(f\"Predicción: {predicted_digit}\")\n",
        "plt.show()\n"
      ]
    },
    {
      "cell_type": "markdown",
      "metadata": {
        "id": "5kiq6bMXcHak"
      },
      "source": [
        "###**Posible solucion utilizando como funcion de perdida o loss el minimo error cuadratico**"
      ]
    },
    {
      "cell_type": "code",
      "execution_count": 41,
      "metadata": {
        "id": "rClansADb6Bl"
      },
      "outputs": [],
      "source": [
        "import numpy as np\n",
        "import tensorflow as tf\n",
        "from matplotlib import pyplot as plt\n",
        "\n",
        "# Crear y entrenar un modelo de red neuronal en TensorFlow (similar al original)\n",
        "model = tf.keras.Sequential([\n",
        "    tf.keras.layers.Input(shape=(64,)),  # Entrada de 64 características\n",
        "    tf.keras.layers.Dense(128, activation='relu'),  # Capa oculta con 128 unidades y función de activación ReLU\n",
        "    tf.keras.layers.Dense(64, activation='relu'),  # Capa oculta con 64 unidades y función de activación ReLU\n",
        "    tf.keras.layers.Dense(10, activation='softmax')  # Capa de salida con 10 unidades y función de activación Softmax\n",
        "])\n",
        "\n"
      ]
    },
    {
      "cell_type": "code",
      "execution_count": 42,
      "metadata": {
        "id": "OL8uh1j7cSMZ"
      },
      "outputs": [],
      "source": [
        "# Cargar pesos previamente entrenados si están disponibles\n",
        "# model.load_weights(\"model_weights.h5\")\n",
        "\n",
        "# Permitir al usuario ingresar una matriz\n",
        "user_input = [\n",
        "    [0, 0, 0, 0, 0, 0, 0, 0],\n",
        "    [0, 4, 15, 14, 1, 0, 0, 0],\n",
        "    [0, 7, 7, 0, 12, 2, 0, 0],\n",
        "    [0, 0, 0, 2, 15, 5, 0, 0],\n",
        "    [0, 0, 0, 7, 14, 2, 0, 0],\n",
        "    [0, 0, 1, 13, 4, 0, 0, 0],\n",
        "    [0, 0, 8, 10, 0, 0, 0, 0],\n",
        "    [0, 0, 0, 0, 0, 0, 0, 0]\n",
        "]\n"
      ]
    },
    {
      "cell_type": "code",
      "execution_count": 43,
      "metadata": {
        "id": "3zw1em1ucT7t"
      },
      "outputs": [
        {
          "name": "stdout",
          "output_type": "stream",
          "text": [
            "1/1 [==============================] - 0s 74ms/step\n"
          ]
        },
        {
          "data": {
            "image/png": "[encoded data removed]",
            "text/plain": [
              "<Figure size 640x480 with 1 Axes>"
            ]
          },
          "metadata": {},
          "output_type": "display_data"
        }
      ],
      "source": [
        "# Redimensionar la entrada del usuario para que tenga 64 características\n",
        "user_input = np.array(user_input).flatten()\n",
        "\n",
        "# Compilar el modelo (asegurándote de que la última capa tenga 8 unidades, ya que estamos tratando con matrices 8x8)\n",
        "model.compile(optimizer='adam', loss='mean_squared_error', metrics=['accuracy'])\n",
        "\n",
        "# Realizar la predicción en la matriz ingresada\n",
        "predicted_digit = model.predict(np.array([user_input]))\n",
        "\n",
        "# Mostrar la imagen ingresada y la predicción\n",
        "plt.imshow(np.array(user_input).reshape(8, 8), cmap=plt.cm.gray_r, interpolation='nearest')\n",
        "plt.title(f\"Predicción: {predicted_digit}\")\n",
        "plt.show()"
      ]
    },
    {
      "cell_type": "markdown",
      "metadata": {
        "id": "8yAZ7t-VlivU"
      },
      "source": [
        "### **aplicacion 2**"
      ]
    },
    {
      "cell_type": "code",
      "execution_count": 44,
      "metadata": {
        "id": "o4RxZdwUheLK"
      },
      "outputs": [
        {
          "name": "stdout",
          "output_type": "stream",
          "text": [
            "Epoch 1/10\n",
            "36/36 [==============================] - 1s 7ms/step - loss: 1.6939 - accuracy: 0.5466 - val_loss: 0.6086 - val_accuracy: 0.7778\n",
            "Epoch 2/10\n",
            "36/36 [==============================] - 0s 4ms/step - loss: 0.3332 - accuracy: 0.9008 - val_loss: 0.3204 - val_accuracy: 0.9097\n",
            "Epoch 3/10\n",
            "36/36 [==============================] - 0s 4ms/step - loss: 0.1724 - accuracy: 0.9530 - val_loss: 0.2461 - val_accuracy: 0.9340\n",
            "Epoch 4/10\n",
            "36/36 [==============================] - 0s 4ms/step - loss: 0.1165 - accuracy: 0.9730 - val_loss: 0.2070 - val_accuracy: 0.9306\n",
            "Epoch 5/10\n",
            "36/36 [==============================] - 0s 3ms/step - loss: 0.0772 - accuracy: 0.9852 - val_loss: 0.1828 - val_accuracy: 0.9410\n",
            "Epoch 6/10\n",
            "36/36 [==============================] - 0s 3ms/step - loss: 0.0540 - accuracy: 0.9913 - val_loss: 0.1583 - val_accuracy: 0.9444\n",
            "Epoch 7/10\n",
            "36/36 [==============================] - 0s 4ms/step - loss: 0.0393 - accuracy: 0.9922 - val_loss: 0.1797 - val_accuracy: 0.9410\n",
            "Epoch 8/10\n",
            "36/36 [==============================] - 0s 3ms/step - loss: 0.0278 - accuracy: 0.9965 - val_loss: 0.1523 - val_accuracy: 0.9479\n",
            "Epoch 9/10\n",
            "36/36 [==============================] - 0s 4ms/step - loss: 0.0208 - accuracy: 0.9983 - val_loss: 0.1411 - val_accuracy: 0.9444\n",
            "Epoch 10/10\n",
            "36/36 [==============================] - 0s 4ms/step - loss: 0.0175 - accuracy: 0.9965 - val_loss: 0.1450 - val_accuracy: 0.9514\n",
            "1/1 [==============================] - 0s 62ms/step\n"
          ]
        },
        {
          "data": {
            "image/png": "[encoded data removed]",
            "text/plain": [
              "<Figure size 640x480 with 1 Axes>"
            ]
          },
          "metadata": {},
          "output_type": "display_data"
        },
        {
          "name": "stdout",
          "output_type": "stream",
          "text": [
            "Predicción: 9\n"
          ]
        }
      ],
      "source": [
        "import numpy as np\n",
        "import tensorflow as tf\n",
        "from matplotlib import pyplot as plt\n",
        "from sklearn import datasets\n",
        "from sklearn.model_selection import train_test_split\n",
        "\n",
        "# Cargar el conjunto de datos de dígitos de Scikit-Learn\n",
        "digits = datasets.load_digits()\n",
        "\n",
        "# Obtener las características (imágenes de dígitos) y las etiquetas (números reales que representan)\n",
        "X = digits.images  # Usamos imágenes en lugar de datos\n",
        "Y = digits.target\n",
        "\n",
        "# Dividir los datos en conjuntos de entrenamiento y prueba\n",
        "X_train, X_test, Y_train, Y_test = train_test_split(X, Y, test_size=0.2, random_state=42)\n",
        "\n",
        "# Redimensionar las matrices de imágenes a vectores de 64 elementos (8x8 aplanados)\n",
        "X_train = X_train.reshape(-1, 64)\n",
        "X_test = X_test.reshape(-1, 64)\n",
        "\n",
        "# Crear y entrenar un modelo de red neuronal en TensorFlow\n",
        "model = tf.keras.Sequential([\n",
        "    tf.keras.layers.Input(shape=(64,)),  # Entrada de 64 características\n",
        "    tf.keras.layers.Dense(128, activation='relu'),  # Capa oculta con 128 unidades y función de activación ReLU\n",
        "    tf.keras.layers.Dense(64, activation='relu'),  # Capa oculta con 64 unidades y función de activación ReLU\n",
        "    tf.keras.layers.Dense(10, activation='softmax')  # Capa de salida con 10 unidades y función de activación Softmax\n",
        "])\n",
        "\n",
        "# Compilar el modelo\n",
        "model.compile(optimizer='adam', loss='sparse_categorical_crossentropy', metrics=['accuracy'])\n",
        "\n",
        "# Entrenar el modelo con los datos de entrenamiento\n",
        "model.fit(X_train, Y_train, epochs=10, batch_size=32, validation_split=0.2,)#verbose=0  si se agrega este metodo se puede cancelar la vista del proceso de las epocas\n",
        "\n",
        "\n",
        "# Define la matriz personalizada que deseas ingresar\n",
        "user_input1 = [\n",
        "    [0, 12, 0, 0, 0, 0, 12, 0],\n",
        "    [0, 12, 0, 0, 0, 0, 12, 0],\n",
        "    [0, 12, 0, 0, 0, 0, 12, 0],\n",
        "    [0, 0, 12, 12, 12, 12, 0, 0],\n",
        "    [0, 0, 0, 0, 0,16 , 0, 0],\n",
        "    [0, 0, 0, 0, 0, 16, 0, 0],\n",
        "    [0, 0, 0, 0, 0, 15, 0, 0],\n",
        "    [0, 0, 0, 0, 0, 16, 0, 0]\n",
        "]\n",
        "\n",
        "user_input2 = [\n",
        "    [0, 1, 2, 3, 4, 5, 6, 7],\n",
        "    [7, 6, 5, 4, 3, 2, 1, 0],\n",
        "    [0, 1, 2, 3, 4, 5, 6, 7],\n",
        "    [7, 6, 5, 4, 3, 2, 1, 0],\n",
        "    [0, 1, 2, 3, 4, 5, 6, 7],\n",
        "    [7, 6, 5, 4, 3, 2, 1, 0],\n",
        "    [0, 1, 2, 3, 4, 5, 6, 7],\n",
        "    [7, 6, 5, 4, 3, 2, 1, 0]\n",
        "]\n",
        "\n",
        "user_input3 = [\n",
        "    [0, 0, 0, 0, 0, 0, 0, 0],\n",
        "    [0, 4, 15, 14, 1, 0, 0, 0],\n",
        "    [0, 7, 7, 0, 12, 2, 0, 0],\n",
        "    [0, 0, 0, 2, 15, 5, 0, 0],\n",
        "    [0, 0, 0, 7, 14, 2, 0, 0],\n",
        "    [0, 0, 1, 13, 4, 0, 0, 0],\n",
        "    [0, 0, 8, 10, 0, 0, 0, 0],\n",
        "    [0, 0, 0, 0, 0, 0, 0, 0]\n",
        "]\n",
        "user_input4 = [\n",
        "    [0, 0, 0, 16, 16, 16, 0, 0],\n",
        "    [0, 6, 16, 0, 0, 16, 0, 0],\n",
        "    [0, 16, 0, 0, 0, 16, 0, 0],\n",
        "    [0, 0, 16, 16, 16, 16, 0, 0],\n",
        "    [0, 0, 1, 0, 0, 16, 0, 0],\n",
        "    [0, 0, 0, 0, 0, 16, 0, 0],\n",
        "    [0, 0, 8, 0, 0, 16, 0, 0],\n",
        "    [0, 0, 0, 16, 16, 0, 0, 0]\n",
        "]\n",
        "user_input5 = [\n",
        "    [0, 0, 0, 3, 3, 3, 3, 0],\n",
        "    [0, 0, 0, 0, 0, 0, 3, 0],\n",
        "    [0, 0, 0, 0, 0, 0, 3, 0],\n",
        "    [0, 0, 0, 0, 3, 3, 0, 0],\n",
        "    [0, 0, 0, 0, 0, 0, 3, 0],\n",
        "    [0, 0, 0, 0, 0, 0, 3, 0],\n",
        "    [0, 0, 0, 0, 0, 0, 3, 0],\n",
        "    [0, 0, 0, 3, 3, 3, 3, 0]\n",
        "]\n",
        "\n",
        "# Redimensionar la entrada del usuario para que tenga 64 características\n",
        "user_input = np.array(user_input5).flatten()\n",
        "\n",
        "# Realizar la predicción en la matriz ingresada\n",
        "predicted_digit = model.predict(np.array([user_input]))\n",
        "\n",
        "# Obtener el dígito predicho\n",
        "predicted_digit = np.argmax(predicted_digit)\n",
        "\n",
        "# Mostrar la imagen ingresada y la predicción\n",
        "plt.imshow(user_input.reshape(8, 8), cmap=plt.cm.gray_r, interpolation='nearest')\n",
        "plt.title(f\"Predicción: {predicted_digit}\")\n",
        "plt.show()\n",
        "\n",
        "print(f\"Predicción: {predicted_digit}\")\n"
      ]
    },
    {
      "cell_type": "markdown",
      "metadata": {
        "id": "4kG5klssmudK"
      },
      "source": [
        "### **Conclusion**\n"
      ]
    },
    {
      "cell_type": "markdown",
      "metadata": {
        "id": "0Q9_594Tmz8t"
      },
      "source": [
        "Si bien un modelo de aprendizaje profundo puede llegar a predecir el dígito en una matriz 8x8, no está exento de posibles fallos. Los modelos de inteligencia artificial, incluidas las redes neuronales, son poderosas herramientas para la clasificación y el reconocimiento de patrones, pero su rendimiento depende en gran medida de la calidad de los datos con los que se entrenan y de la complejidad de la tarea en cuestión.\n",
        "\n",
        "En el caso de matrices personalizadas, como la que representaba el dígito \"3\", el modelo podría fallar si la matriz no se asemeja lo suficiente a los patrones que ha aprendido durante el entrenamiento. Además, el rendimiento del modelo puede verse afectado por la cantidad y diversidad de datos de entrenamiento disponibles, así como por la complejidad de la tarea de reconocimiento.\n",
        "\n",
        "En resumen, si bien los modelos de aprendizaje automático pueden ser sorprendentemente precisos en muchas tareas, siempre es importante tener en cuenta que no son infalibles. La evaluación y validación continua de los modelos, junto con la adquisición de datos de alta calidad y la adaptación a la tarea específica, son fundamentales para minimizar los posibles fallos y mejorar la capacidad predictiva de los modelos."
      ]
    }
  ],
  "metadata": {
    "colab": {
      "provenance": []
    },
    "kernelspec": {
      "display_name": "Python 3",
      "name": "python3"
    },
    "language_info": {
      "codemirror_mode": {
        "name": "ipython",
        "version": 3
      },
      "file_extension": ".py",
      "mimetype": "text/x-python",
      "name": "python",
      "nbconvert_exporter": "python",
      "pygments_lexer": "ipython3",
      "version": "3.8.10"
    }
  },
  "nbformat": 4,
  "nbformat_minor": 0
}
